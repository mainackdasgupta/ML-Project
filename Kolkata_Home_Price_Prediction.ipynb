{
  "nbformat": 4,
  "nbformat_minor": 0,
  "metadata": {
    "colab": {
      "name": "Kolkata Home Price Prediction.ipynb",
      "provenance": [],
      "authorship_tag": "ABX9TyPoU+CS79FPv7LgaDZ1awKr",
      "include_colab_link": true
    },
    "kernelspec": {
      "name": "python3",
      "display_name": "Python 3"
    },
    "language_info": {
      "name": "python"
    }
  },
  "cells": [
    {
      "cell_type": "markdown",
      "metadata": {
        "id": "view-in-github",
        "colab_type": "text"
      },
      "source": [
        "<a href=\"https://colab.research.google.com/github/mainackdasgupta/ML-Project/blob/main/Kolkata_Home_Price_Prediction.ipynb\" target=\"_parent\"><img src=\"https://colab.research.google.com/assets/colab-badge.svg\" alt=\"Open In Colab\"/></a>"
      ]
    },
    {
      "cell_type": "markdown",
      "source": [
        "Data set link : https://www.kaggle.com/datasets/kuntalmaity/house-price "
      ],
      "metadata": {
        "id": "hMnXvVMK2hOU"
      }
    },
    {
      "cell_type": "code",
      "execution_count": 1,
      "metadata": {
        "colab": {
          "resources": {
            "http://localhost:8080/nbextensions/google.colab/files.js": {
              "data": "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",
              "ok": true,
              "headers": [
                [
                  "content-type",
                  "application/javascript"
                ]
              ],
              "status": 200,
              "status_text": ""
            }
          },
          "base_uri": "https://localhost:8080/",
          "height": 73
        },
        "id": "TuO9Rrq9MFZQ",
        "outputId": "db8deb89-03a4-4368-a942-72622c97ec56"
      },
      "outputs": [
        {
          "output_type": "display_data",
          "data": {
            "text/plain": [
              "<IPython.core.display.HTML object>"
            ],
            "text/html": [
              "\n",
              "     <input type=\"file\" id=\"files-e87d5bb6-cf49-4b4a-99c1-3a13512e64d8\" name=\"files[]\" multiple disabled\n",
              "        style=\"border:none\" />\n",
              "     <output id=\"result-e87d5bb6-cf49-4b4a-99c1-3a13512e64d8\">\n",
              "      Upload widget is only available when the cell has been executed in the\n",
              "      current browser session. Please rerun this cell to enable.\n",
              "      </output>\n",
              "      <script src=\"/nbextensions/google.colab/files.js\"></script> "
            ]
          },
          "metadata": {}
        },
        {
          "output_type": "stream",
          "name": "stdout",
          "text": [
            "Saving House_Price.csv to House_Price.csv\n"
          ]
        }
      ],
      "source": [
        "import pandas as pd\n",
        "import numpy as np\n",
        "from matplotlib import pyplot as plt\n",
        "%matplotlib inline\n",
        "import matplotlib \n",
        "matplotlib.rcParams[\"figure.figsize\"] = (20,10)\n",
        "from google.colab import files\n",
        "import io\n",
        "uploaded = files.upload()"
      ]
    },
    {
      "cell_type": "code",
      "source": [
        "df = pd.read_csv('House_Price.csv')\n",
        "print(df)"
      ],
      "metadata": {
        "colab": {
          "base_uri": "https://localhost:8080/"
        },
        "id": "fo3rzX53Mr2t",
        "outputId": "2c9a5b87-ae8f-458b-f843-94f22911dc4c"
      },
      "execution_count": 2,
      "outputs": [
        {
          "output_type": "stream",
          "name": "stdout",
          "text": [
            "     Flat_Price  EMI_Starts    BHK  css-11nfaq3 Unnamed: 4         HOUSE_TYPE  \\\n",
            "0       ₹8.5 Cr  ₹4.22 Lacs  6 BHK          6.0        BHK  Independent House   \n",
            "1       ₹45.0 L    ₹23.83 K  3 BHK          3.0        BHK  Independent House   \n",
            "2      ₹1.35 Cr    ₹67.02 K  3 BHK          3.0        BHK  Independent House   \n",
            "3       ₹60.0 L    ₹31.77 K  5 BHK          5.0        BHK  Independent House   \n",
            "4       ₹52.0 L    ₹27.54 K  4 BHK          4.0        BHK  Independent House   \n",
            "...         ...         ...    ...          ...        ...                ...   \n",
            "3963    ₹13.0 L     ₹6.88 K  2 BHK          2.0        BHK  Independent House   \n",
            "3964    ₹1.5 Cr    ₹74.47 K  8 BHK          8.0        BHK  Independent House   \n",
            "3965    ₹50.0 L    ₹26.48 K  5 BHK          5.0        BHK  Independent House   \n",
            "3966    ₹1.1 Cr    ₹54.61 K  5 BHK          5.0        BHK  Independent House   \n",
            "3967    ₹30.0 L    ₹15.89 K  2 BHK          2.0        BHK  Independent House   \n",
            "\n",
            "       Unnamed: 6 Unnamed: 7      Purpose                  Location  \\\n",
            "0     Independent      House  for sale in       Ballygunge, Kolkata   \n",
            "1     Independent      House  for sale in      Barrackpore, Kolkata   \n",
            "2     Independent      House  for sale in       Santoshpur, Kolkata   \n",
            "3     Independent      House  for sale in          Sarsuna, Kolkata   \n",
            "4     Independent      House  for sale in      Madhyamgram, Kolkata   \n",
            "...           ...        ...          ...                       ...   \n",
            "3963  Independent      House  for sale in    Picnic Garden, Kolkata   \n",
            "3964  Independent      House  for sale in  Rajpur Sonarpur, Kolkata   \n",
            "3965  Independent      House  for sale in           Amtala, Kolkata   \n",
            "3966  Independent      House  for sale in       Tollygunge, Kolkata   \n",
            "3967  Independent      House  for sale in          Naihati, Kolkata   \n",
            "\n",
            "          Area_Type Total_Sq.ft Price_per_sq.ft            Owner_name  \\\n",
            "0     Build Up Area  4200 sq.ft  ₹20.24 K/sq.ft   Abhijit Chakraborty   \n",
            "1     Build Up Area  1400 sq.ft   ₹3.21 K/sq.ft       Virtual Reality   \n",
            "2     Build Up Area  2500 sq.ft   ₹5.40 K/sq.ft     AveNew Properties   \n",
            "3     Build Up Area  1100 sq.ft   ₹5.45 K/sq.ft  Ganapati Real Estate   \n",
            "4     Build Up Area   900 sq.ft   ₹5.78 K/sq.ft  Third Eye Consulting   \n",
            "...             ...         ...             ...                   ...   \n",
            "3963  Build Up Area  1500 sq.ft      ₹866/sq.ft            Goutam Dey   \n",
            "3964  Build Up Area  2560 sq.ft   ₹5.86 K/sq.ft        Alak Kumar Roy   \n",
            "3965  Build Up Area  1900 sq.ft   ₹2.63 K/sq.ft              Sarishma   \n",
            "3966  Build Up Area  2600 sq.ft   ₹4.23 K/sq.ft     MEDIATOR REALTORS   \n",
            "3967  Build Up Area   950 sq.ft   ₹3.16 K/sq.ft           S Mukherjee   \n",
            "\n",
            "          Owner_type  \n",
            "0     Housing Expert  \n",
            "1     Housing Expert  \n",
            "2     Housing Expert  \n",
            "3     Housing Expert  \n",
            "4     Housing Expert  \n",
            "...              ...  \n",
            "3963           Owner  \n",
            "3964           Owner  \n",
            "3965           Owner  \n",
            "3966           Agent  \n",
            "3967           Owner  \n",
            "\n",
            "[3968 rows x 15 columns]\n"
          ]
        }
      ]
    },
    {
      "cell_type": "code",
      "source": [
        "df.isnull().sum()"
      ],
      "metadata": {
        "colab": {
          "base_uri": "https://localhost:8080/"
        },
        "id": "-83TYtHKPOYs",
        "outputId": "fdcc62e1-ddfb-4f2f-e977-517acc21e47f"
      },
      "execution_count": 3,
      "outputs": [
        {
          "output_type": "execute_result",
          "data": {
            "text/plain": [
              "Flat_Price          0\n",
              "EMI_Starts          0\n",
              "BHK                 0\n",
              "css-11nfaq3         2\n",
              "Unnamed: 4          2\n",
              "HOUSE_TYPE          0\n",
              "Unnamed: 6          2\n",
              "Unnamed: 7          2\n",
              "Purpose             2\n",
              "Location            2\n",
              "Area_Type           0\n",
              "Total_Sq.ft         0\n",
              "Price_per_sq.ft     0\n",
              "Owner_name         10\n",
              "Owner_type          0\n",
              "dtype: int64"
            ]
          },
          "metadata": {},
          "execution_count": 3
        }
      ]
    },
    {
      "cell_type": "code",
      "source": [
        "df.shape"
      ],
      "metadata": {
        "colab": {
          "base_uri": "https://localhost:8080/"
        },
        "id": "p7ySNY8FVgy8",
        "outputId": "dfa35930-f682-4143-8432-976bbcea24e0"
      },
      "execution_count": 4,
      "outputs": [
        {
          "output_type": "execute_result",
          "data": {
            "text/plain": [
              "(3968, 15)"
            ]
          },
          "metadata": {},
          "execution_count": 4
        }
      ]
    },
    {
      "cell_type": "code",
      "source": [
        "df1 = df.dropna()\n",
        "df1.isnull().sum()"
      ],
      "metadata": {
        "colab": {
          "base_uri": "https://localhost:8080/"
        },
        "id": "ue4FhgGlUnOG",
        "outputId": "2d41d73a-f7f2-476c-a69b-4647b0f35ef3"
      },
      "execution_count": 5,
      "outputs": [
        {
          "output_type": "execute_result",
          "data": {
            "text/plain": [
              "Flat_Price         0\n",
              "EMI_Starts         0\n",
              "BHK                0\n",
              "css-11nfaq3        0\n",
              "Unnamed: 4         0\n",
              "HOUSE_TYPE         0\n",
              "Unnamed: 6         0\n",
              "Unnamed: 7         0\n",
              "Purpose            0\n",
              "Location           0\n",
              "Area_Type          0\n",
              "Total_Sq.ft        0\n",
              "Price_per_sq.ft    0\n",
              "Owner_name         0\n",
              "Owner_type         0\n",
              "dtype: int64"
            ]
          },
          "metadata": {},
          "execution_count": 5
        }
      ]
    },
    {
      "cell_type": "code",
      "source": [
        "df1.shape"
      ],
      "metadata": {
        "colab": {
          "base_uri": "https://localhost:8080/"
        },
        "id": "cg8eUB_MVS0A",
        "outputId": "9a6cf968-83db-466d-f23f-19b8a3ce24b4"
      },
      "execution_count": 6,
      "outputs": [
        {
          "output_type": "execute_result",
          "data": {
            "text/plain": [
              "(3956, 15)"
            ]
          },
          "metadata": {},
          "execution_count": 6
        }
      ]
    },
    {
      "cell_type": "code",
      "source": [
        "print(df1)"
      ],
      "metadata": {
        "colab": {
          "base_uri": "https://localhost:8080/"
        },
        "id": "nNkmcg5zV4cT",
        "outputId": "7db9e4f2-27c4-40ff-f3f9-df2308488b9f"
      },
      "execution_count": 7,
      "outputs": [
        {
          "output_type": "stream",
          "name": "stdout",
          "text": [
            "     Flat_Price  EMI_Starts    BHK  css-11nfaq3 Unnamed: 4         HOUSE_TYPE  \\\n",
            "0       ₹8.5 Cr  ₹4.22 Lacs  6 BHK          6.0        BHK  Independent House   \n",
            "1       ₹45.0 L    ₹23.83 K  3 BHK          3.0        BHK  Independent House   \n",
            "2      ₹1.35 Cr    ₹67.02 K  3 BHK          3.0        BHK  Independent House   \n",
            "3       ₹60.0 L    ₹31.77 K  5 BHK          5.0        BHK  Independent House   \n",
            "4       ₹52.0 L    ₹27.54 K  4 BHK          4.0        BHK  Independent House   \n",
            "...         ...         ...    ...          ...        ...                ...   \n",
            "3963    ₹13.0 L     ₹6.88 K  2 BHK          2.0        BHK  Independent House   \n",
            "3964    ₹1.5 Cr    ₹74.47 K  8 BHK          8.0        BHK  Independent House   \n",
            "3965    ₹50.0 L    ₹26.48 K  5 BHK          5.0        BHK  Independent House   \n",
            "3966    ₹1.1 Cr    ₹54.61 K  5 BHK          5.0        BHK  Independent House   \n",
            "3967    ₹30.0 L    ₹15.89 K  2 BHK          2.0        BHK  Independent House   \n",
            "\n",
            "       Unnamed: 6 Unnamed: 7      Purpose                  Location  \\\n",
            "0     Independent      House  for sale in       Ballygunge, Kolkata   \n",
            "1     Independent      House  for sale in      Barrackpore, Kolkata   \n",
            "2     Independent      House  for sale in       Santoshpur, Kolkata   \n",
            "3     Independent      House  for sale in          Sarsuna, Kolkata   \n",
            "4     Independent      House  for sale in      Madhyamgram, Kolkata   \n",
            "...           ...        ...          ...                       ...   \n",
            "3963  Independent      House  for sale in    Picnic Garden, Kolkata   \n",
            "3964  Independent      House  for sale in  Rajpur Sonarpur, Kolkata   \n",
            "3965  Independent      House  for sale in           Amtala, Kolkata   \n",
            "3966  Independent      House  for sale in       Tollygunge, Kolkata   \n",
            "3967  Independent      House  for sale in          Naihati, Kolkata   \n",
            "\n",
            "          Area_Type Total_Sq.ft Price_per_sq.ft            Owner_name  \\\n",
            "0     Build Up Area  4200 sq.ft  ₹20.24 K/sq.ft   Abhijit Chakraborty   \n",
            "1     Build Up Area  1400 sq.ft   ₹3.21 K/sq.ft       Virtual Reality   \n",
            "2     Build Up Area  2500 sq.ft   ₹5.40 K/sq.ft     AveNew Properties   \n",
            "3     Build Up Area  1100 sq.ft   ₹5.45 K/sq.ft  Ganapati Real Estate   \n",
            "4     Build Up Area   900 sq.ft   ₹5.78 K/sq.ft  Third Eye Consulting   \n",
            "...             ...         ...             ...                   ...   \n",
            "3963  Build Up Area  1500 sq.ft      ₹866/sq.ft            Goutam Dey   \n",
            "3964  Build Up Area  2560 sq.ft   ₹5.86 K/sq.ft        Alak Kumar Roy   \n",
            "3965  Build Up Area  1900 sq.ft   ₹2.63 K/sq.ft              Sarishma   \n",
            "3966  Build Up Area  2600 sq.ft   ₹4.23 K/sq.ft     MEDIATOR REALTORS   \n",
            "3967  Build Up Area   950 sq.ft   ₹3.16 K/sq.ft           S Mukherjee   \n",
            "\n",
            "          Owner_type  \n",
            "0     Housing Expert  \n",
            "1     Housing Expert  \n",
            "2     Housing Expert  \n",
            "3     Housing Expert  \n",
            "4     Housing Expert  \n",
            "...              ...  \n",
            "3963           Owner  \n",
            "3964           Owner  \n",
            "3965           Owner  \n",
            "3966           Agent  \n",
            "3967           Owner  \n",
            "\n",
            "[3956 rows x 15 columns]\n"
          ]
        }
      ]
    },
    {
      "cell_type": "code",
      "source": [
        "df1.columns"
      ],
      "metadata": {
        "colab": {
          "base_uri": "https://localhost:8080/"
        },
        "id": "bmheE0SXYStA",
        "outputId": "2be67e36-7638-4640-fbbb-ebfff0b70058"
      },
      "execution_count": 8,
      "outputs": [
        {
          "output_type": "execute_result",
          "data": {
            "text/plain": [
              "Index(['Flat_Price', 'EMI_Starts', 'BHK', 'css-11nfaq3', 'Unnamed: 4',\n",
              "       'HOUSE_TYPE', 'Unnamed: 6', 'Unnamed: 7', 'Purpose', 'Location',\n",
              "       'Area_Type', 'Total_Sq.ft', 'Price_per_sq.ft', 'Owner_name',\n",
              "       'Owner_type'],\n",
              "      dtype='object')"
            ]
          },
          "metadata": {},
          "execution_count": 8
        }
      ]
    },
    {
      "cell_type": "code",
      "source": [
        "df2 = df1.drop(['css-11nfaq3','Unnamed: 6','Unnamed: 7','Unnamed: 4'],axis='columns')\n",
        "df2.shape"
      ],
      "metadata": {
        "colab": {
          "base_uri": "https://localhost:8080/"
        },
        "id": "j5Sp2y70YvBP",
        "outputId": "e66d8879-fe95-4818-b2b5-7a8e5269a792"
      },
      "execution_count": 9,
      "outputs": [
        {
          "output_type": "execute_result",
          "data": {
            "text/plain": [
              "(3956, 11)"
            ]
          },
          "metadata": {},
          "execution_count": 9
        }
      ]
    },
    {
      "cell_type": "code",
      "source": [
        "df2.columns"
      ],
      "metadata": {
        "colab": {
          "base_uri": "https://localhost:8080/"
        },
        "id": "dUFtOHdAoLNj",
        "outputId": "83c74dfc-eee5-41b6-a7d6-8963361a0710"
      },
      "execution_count": 16,
      "outputs": [
        {
          "output_type": "execute_result",
          "data": {
            "text/plain": [
              "Index(['Flat_Price', 'EMI_Starts', 'BHK', 'HOUSE_TYPE', 'Purpose', 'Location',\n",
              "       'Area_Type', 'Total_Sqft', 'Price_per_Sqft', 'Owner_name',\n",
              "       'Owner_type'],\n",
              "      dtype='object')"
            ]
          },
          "metadata": {},
          "execution_count": 16
        }
      ]
    },
    {
      "cell_type": "code",
      "source": [
        "df2.columns.values[7] = 'Total_Sqft'\n",
        "df2.columns.values[8] = 'Price_per_Sqft'\n",
        "df2.columns"
      ],
      "metadata": {
        "colab": {
          "base_uri": "https://localhost:8080/"
        },
        "id": "Zze4LqzLgb3x",
        "outputId": "2b9cd5ae-77b4-412d-c775-b5bd232eb3ba"
      },
      "execution_count": 13,
      "outputs": [
        {
          "output_type": "execute_result",
          "data": {
            "text/plain": [
              "Index(['Flat_Price', 'EMI_Starts', 'BHK', 'HOUSE_TYPE', 'Purpose', 'Location',\n",
              "       'Area_Type', 'Total_Sqft', 'Price_per_Sqft', 'Owner_name',\n",
              "       'Owner_type'],\n",
              "      dtype='object')"
            ]
          },
          "metadata": {},
          "execution_count": 13
        }
      ]
    },
    {
      "cell_type": "code",
      "source": [
        "df2"
      ],
      "metadata": {
        "colab": {
          "base_uri": "https://localhost:8080/",
          "height": 641
        },
        "id": "aD2iOZ-V5Z3e",
        "outputId": "eaa900cb-9d1b-4bfc-a81e-93fbd1a3c863"
      },
      "execution_count": 15,
      "outputs": [
        {
          "output_type": "execute_result",
          "data": {
            "text/plain": [
              "     Flat_Price  EMI_Starts    BHK         HOUSE_TYPE      Purpose  \\\n",
              "0       ₹8.5 Cr  ₹4.22 Lacs  6 BHK  Independent House  for sale in   \n",
              "1       ₹45.0 L    ₹23.83 K  3 BHK  Independent House  for sale in   \n",
              "2      ₹1.35 Cr    ₹67.02 K  3 BHK  Independent House  for sale in   \n",
              "3       ₹60.0 L    ₹31.77 K  5 BHK  Independent House  for sale in   \n",
              "4       ₹52.0 L    ₹27.54 K  4 BHK  Independent House  for sale in   \n",
              "...         ...         ...    ...                ...          ...   \n",
              "3963    ₹13.0 L     ₹6.88 K  2 BHK  Independent House  for sale in   \n",
              "3964    ₹1.5 Cr    ₹74.47 K  8 BHK  Independent House  for sale in   \n",
              "3965    ₹50.0 L    ₹26.48 K  5 BHK  Independent House  for sale in   \n",
              "3966    ₹1.1 Cr    ₹54.61 K  5 BHK  Independent House  for sale in   \n",
              "3967    ₹30.0 L    ₹15.89 K  2 BHK  Independent House  for sale in   \n",
              "\n",
              "                      Location      Area_Type  Total_Sqft  Price_per_Sqft  \\\n",
              "0          Ballygunge, Kolkata  Build Up Area  4200 sq.ft  ₹20.24 K/sq.ft   \n",
              "1         Barrackpore, Kolkata  Build Up Area  1400 sq.ft   ₹3.21 K/sq.ft   \n",
              "2          Santoshpur, Kolkata  Build Up Area  2500 sq.ft   ₹5.40 K/sq.ft   \n",
              "3             Sarsuna, Kolkata  Build Up Area  1100 sq.ft   ₹5.45 K/sq.ft   \n",
              "4         Madhyamgram, Kolkata  Build Up Area   900 sq.ft   ₹5.78 K/sq.ft   \n",
              "...                        ...            ...         ...             ...   \n",
              "3963    Picnic Garden, Kolkata  Build Up Area  1500 sq.ft      ₹866/sq.ft   \n",
              "3964  Rajpur Sonarpur, Kolkata  Build Up Area  2560 sq.ft   ₹5.86 K/sq.ft   \n",
              "3965           Amtala, Kolkata  Build Up Area  1900 sq.ft   ₹2.63 K/sq.ft   \n",
              "3966       Tollygunge, Kolkata  Build Up Area  2600 sq.ft   ₹4.23 K/sq.ft   \n",
              "3967          Naihati, Kolkata  Build Up Area   950 sq.ft   ₹3.16 K/sq.ft   \n",
              "\n",
              "                Owner_name      Owner_type  \n",
              "0      Abhijit Chakraborty  Housing Expert  \n",
              "1          Virtual Reality  Housing Expert  \n",
              "2        AveNew Properties  Housing Expert  \n",
              "3     Ganapati Real Estate  Housing Expert  \n",
              "4     Third Eye Consulting  Housing Expert  \n",
              "...                    ...             ...  \n",
              "3963            Goutam Dey           Owner  \n",
              "3964        Alak Kumar Roy           Owner  \n",
              "3965              Sarishma           Owner  \n",
              "3966     MEDIATOR REALTORS           Agent  \n",
              "3967           S Mukherjee           Owner  \n",
              "\n",
              "[3956 rows x 11 columns]"
            ],
            "text/html": [
              "\n",
              "  <div id=\"df-b9f4687e-21fc-4ce6-8cf8-a854b9bb0aee\">\n",
              "    <div class=\"colab-df-container\">\n",
              "      <div>\n",
              "<style scoped>\n",
              "    .dataframe tbody tr th:only-of-type {\n",
              "        vertical-align: middle;\n",
              "    }\n",
              "\n",
              "    .dataframe tbody tr th {\n",
              "        vertical-align: top;\n",
              "    }\n",
              "\n",
              "    .dataframe thead th {\n",
              "        text-align: right;\n",
              "    }\n",
              "</style>\n",
              "<table border=\"1\" class=\"dataframe\">\n",
              "  <thead>\n",
              "    <tr style=\"text-align: right;\">\n",
              "      <th></th>\n",
              "      <th>Flat_Price</th>\n",
              "      <th>EMI_Starts</th>\n",
              "      <th>BHK</th>\n",
              "      <th>HOUSE_TYPE</th>\n",
              "      <th>Purpose</th>\n",
              "      <th>Location</th>\n",
              "      <th>Area_Type</th>\n",
              "      <th>Total_Sqft</th>\n",
              "      <th>Price_per_Sqft</th>\n",
              "      <th>Owner_name</th>\n",
              "      <th>Owner_type</th>\n",
              "    </tr>\n",
              "  </thead>\n",
              "  <tbody>\n",
              "    <tr>\n",
              "      <th>0</th>\n",
              "      <td>₹8.5 Cr</td>\n",
              "      <td>₹4.22 Lacs</td>\n",
              "      <td>6 BHK</td>\n",
              "      <td>Independent House</td>\n",
              "      <td>for sale in</td>\n",
              "      <td>Ballygunge, Kolkata</td>\n",
              "      <td>Build Up Area</td>\n",
              "      <td>4200 sq.ft</td>\n",
              "      <td>₹20.24 K/sq.ft</td>\n",
              "      <td>Abhijit Chakraborty</td>\n",
              "      <td>Housing Expert</td>\n",
              "    </tr>\n",
              "    <tr>\n",
              "      <th>1</th>\n",
              "      <td>₹45.0 L</td>\n",
              "      <td>₹23.83 K</td>\n",
              "      <td>3 BHK</td>\n",
              "      <td>Independent House</td>\n",
              "      <td>for sale in</td>\n",
              "      <td>Barrackpore, Kolkata</td>\n",
              "      <td>Build Up Area</td>\n",
              "      <td>1400 sq.ft</td>\n",
              "      <td>₹3.21 K/sq.ft</td>\n",
              "      <td>Virtual Reality</td>\n",
              "      <td>Housing Expert</td>\n",
              "    </tr>\n",
              "    <tr>\n",
              "      <th>2</th>\n",
              "      <td>₹1.35 Cr</td>\n",
              "      <td>₹67.02 K</td>\n",
              "      <td>3 BHK</td>\n",
              "      <td>Independent House</td>\n",
              "      <td>for sale in</td>\n",
              "      <td>Santoshpur, Kolkata</td>\n",
              "      <td>Build Up Area</td>\n",
              "      <td>2500 sq.ft</td>\n",
              "      <td>₹5.40 K/sq.ft</td>\n",
              "      <td>AveNew Properties</td>\n",
              "      <td>Housing Expert</td>\n",
              "    </tr>\n",
              "    <tr>\n",
              "      <th>3</th>\n",
              "      <td>₹60.0 L</td>\n",
              "      <td>₹31.77 K</td>\n",
              "      <td>5 BHK</td>\n",
              "      <td>Independent House</td>\n",
              "      <td>for sale in</td>\n",
              "      <td>Sarsuna, Kolkata</td>\n",
              "      <td>Build Up Area</td>\n",
              "      <td>1100 sq.ft</td>\n",
              "      <td>₹5.45 K/sq.ft</td>\n",
              "      <td>Ganapati Real Estate</td>\n",
              "      <td>Housing Expert</td>\n",
              "    </tr>\n",
              "    <tr>\n",
              "      <th>4</th>\n",
              "      <td>₹52.0 L</td>\n",
              "      <td>₹27.54 K</td>\n",
              "      <td>4 BHK</td>\n",
              "      <td>Independent House</td>\n",
              "      <td>for sale in</td>\n",
              "      <td>Madhyamgram, Kolkata</td>\n",
              "      <td>Build Up Area</td>\n",
              "      <td>900 sq.ft</td>\n",
              "      <td>₹5.78 K/sq.ft</td>\n",
              "      <td>Third Eye Consulting</td>\n",
              "      <td>Housing Expert</td>\n",
              "    </tr>\n",
              "    <tr>\n",
              "      <th>...</th>\n",
              "      <td>...</td>\n",
              "      <td>...</td>\n",
              "      <td>...</td>\n",
              "      <td>...</td>\n",
              "      <td>...</td>\n",
              "      <td>...</td>\n",
              "      <td>...</td>\n",
              "      <td>...</td>\n",
              "      <td>...</td>\n",
              "      <td>...</td>\n",
              "      <td>...</td>\n",
              "    </tr>\n",
              "    <tr>\n",
              "      <th>3963</th>\n",
              "      <td>₹13.0 L</td>\n",
              "      <td>₹6.88 K</td>\n",
              "      <td>2 BHK</td>\n",
              "      <td>Independent House</td>\n",
              "      <td>for sale in</td>\n",
              "      <td>Picnic Garden, Kolkata</td>\n",
              "      <td>Build Up Area</td>\n",
              "      <td>1500 sq.ft</td>\n",
              "      <td>₹866/sq.ft</td>\n",
              "      <td>Goutam Dey</td>\n",
              "      <td>Owner</td>\n",
              "    </tr>\n",
              "    <tr>\n",
              "      <th>3964</th>\n",
              "      <td>₹1.5 Cr</td>\n",
              "      <td>₹74.47 K</td>\n",
              "      <td>8 BHK</td>\n",
              "      <td>Independent House</td>\n",
              "      <td>for sale in</td>\n",
              "      <td>Rajpur Sonarpur, Kolkata</td>\n",
              "      <td>Build Up Area</td>\n",
              "      <td>2560 sq.ft</td>\n",
              "      <td>₹5.86 K/sq.ft</td>\n",
              "      <td>Alak Kumar Roy</td>\n",
              "      <td>Owner</td>\n",
              "    </tr>\n",
              "    <tr>\n",
              "      <th>3965</th>\n",
              "      <td>₹50.0 L</td>\n",
              "      <td>₹26.48 K</td>\n",
              "      <td>5 BHK</td>\n",
              "      <td>Independent House</td>\n",
              "      <td>for sale in</td>\n",
              "      <td>Amtala, Kolkata</td>\n",
              "      <td>Build Up Area</td>\n",
              "      <td>1900 sq.ft</td>\n",
              "      <td>₹2.63 K/sq.ft</td>\n",
              "      <td>Sarishma</td>\n",
              "      <td>Owner</td>\n",
              "    </tr>\n",
              "    <tr>\n",
              "      <th>3966</th>\n",
              "      <td>₹1.1 Cr</td>\n",
              "      <td>₹54.61 K</td>\n",
              "      <td>5 BHK</td>\n",
              "      <td>Independent House</td>\n",
              "      <td>for sale in</td>\n",
              "      <td>Tollygunge, Kolkata</td>\n",
              "      <td>Build Up Area</td>\n",
              "      <td>2600 sq.ft</td>\n",
              "      <td>₹4.23 K/sq.ft</td>\n",
              "      <td>MEDIATOR REALTORS</td>\n",
              "      <td>Agent</td>\n",
              "    </tr>\n",
              "    <tr>\n",
              "      <th>3967</th>\n",
              "      <td>₹30.0 L</td>\n",
              "      <td>₹15.89 K</td>\n",
              "      <td>2 BHK</td>\n",
              "      <td>Independent House</td>\n",
              "      <td>for sale in</td>\n",
              "      <td>Naihati, Kolkata</td>\n",
              "      <td>Build Up Area</td>\n",
              "      <td>950 sq.ft</td>\n",
              "      <td>₹3.16 K/sq.ft</td>\n",
              "      <td>S Mukherjee</td>\n",
              "      <td>Owner</td>\n",
              "    </tr>\n",
              "  </tbody>\n",
              "</table>\n",
              "<p>3956 rows × 11 columns</p>\n",
              "</div>\n",
              "      <button class=\"colab-df-convert\" onclick=\"convertToInteractive('df-b9f4687e-21fc-4ce6-8cf8-a854b9bb0aee')\"\n",
              "              title=\"Convert this dataframe to an interactive table.\"\n",
              "              style=\"display:none;\">\n",
              "        \n",
              "  <svg xmlns=\"http://www.w3.org/2000/svg\" height=\"24px\"viewBox=\"0 0 24 24\"\n",
              "       width=\"24px\">\n",
              "    <path d=\"M0 0h24v24H0V0z\" fill=\"none\"/>\n",
              "    <path d=\"M18.56 5.44l.94 2.06.94-2.06 2.06-.94-2.06-.94-.94-2.06-.94 2.06-2.06.94zm-11 1L8.5 8.5l.94-2.06 2.06-.94-2.06-.94L8.5 2.5l-.94 2.06-2.06.94zm10 10l.94 2.06.94-2.06 2.06-.94-2.06-.94-.94-2.06-.94 2.06-2.06.94z\"/><path d=\"M17.41 7.96l-1.37-1.37c-.4-.4-.92-.59-1.43-.59-.52 0-1.04.2-1.43.59L10.3 9.45l-7.72 7.72c-.78.78-.78 2.05 0 2.83L4 21.41c.39.39.9.59 1.41.59.51 0 1.02-.2 1.41-.59l7.78-7.78 2.81-2.81c.8-.78.8-2.07 0-2.86zM5.41 20L4 18.59l7.72-7.72 1.47 1.35L5.41 20z\"/>\n",
              "  </svg>\n",
              "      </button>\n",
              "      \n",
              "  <style>\n",
              "    .colab-df-container {\n",
              "      display:flex;\n",
              "      flex-wrap:wrap;\n",
              "      gap: 12px;\n",
              "    }\n",
              "\n",
              "    .colab-df-convert {\n",
              "      background-color: #E8F0FE;\n",
              "      border: none;\n",
              "      border-radius: 50%;\n",
              "      cursor: pointer;\n",
              "      display: none;\n",
              "      fill: #1967D2;\n",
              "      height: 32px;\n",
              "      padding: 0 0 0 0;\n",
              "      width: 32px;\n",
              "    }\n",
              "\n",
              "    .colab-df-convert:hover {\n",
              "      background-color: #E2EBFA;\n",
              "      box-shadow: 0px 1px 2px rgba(60, 64, 67, 0.3), 0px 1px 3px 1px rgba(60, 64, 67, 0.15);\n",
              "      fill: #174EA6;\n",
              "    }\n",
              "\n",
              "    [theme=dark] .colab-df-convert {\n",
              "      background-color: #3B4455;\n",
              "      fill: #D2E3FC;\n",
              "    }\n",
              "\n",
              "    [theme=dark] .colab-df-convert:hover {\n",
              "      background-color: #434B5C;\n",
              "      box-shadow: 0px 1px 3px 1px rgba(0, 0, 0, 0.15);\n",
              "      filter: drop-shadow(0px 1px 2px rgba(0, 0, 0, 0.3));\n",
              "      fill: #FFFFFF;\n",
              "    }\n",
              "  </style>\n",
              "\n",
              "      <script>\n",
              "        const buttonEl =\n",
              "          document.querySelector('#df-b9f4687e-21fc-4ce6-8cf8-a854b9bb0aee button.colab-df-convert');\n",
              "        buttonEl.style.display =\n",
              "          google.colab.kernel.accessAllowed ? 'block' : 'none';\n",
              "\n",
              "        async function convertToInteractive(key) {\n",
              "          const element = document.querySelector('#df-b9f4687e-21fc-4ce6-8cf8-a854b9bb0aee');\n",
              "          const dataTable =\n",
              "            await google.colab.kernel.invokeFunction('convertToInteractive',\n",
              "                                                     [key], {});\n",
              "          if (!dataTable) return;\n",
              "\n",
              "          const docLinkHtml = 'Like what you see? Visit the ' +\n",
              "            '<a target=\"_blank\" href=https://colab.research.google.com/notebooks/data_table.ipynb>data table notebook</a>'\n",
              "            + ' to learn more about interactive tables.';\n",
              "          element.innerHTML = '';\n",
              "          dataTable['output_type'] = 'display_data';\n",
              "          await google.colab.output.renderOutput(dataTable, element);\n",
              "          const docLink = document.createElement('div');\n",
              "          docLink.innerHTML = docLinkHtml;\n",
              "          element.appendChild(docLink);\n",
              "        }\n",
              "      </script>\n",
              "    </div>\n",
              "  </div>\n",
              "  "
            ]
          },
          "metadata": {},
          "execution_count": 15
        }
      ]
    },
    {
      "cell_type": "code",
      "source": [
        "df2.BHK.describe()"
      ],
      "metadata": {
        "colab": {
          "base_uri": "https://localhost:8080/"
        },
        "id": "lxsJNHWArJIa",
        "outputId": "74538787-0a58-44dd-d714-05aec760dd71"
      },
      "execution_count": 17,
      "outputs": [
        {
          "output_type": "execute_result",
          "data": {
            "text/plain": [
              "count      3956\n",
              "unique       18\n",
              "top       3 BHK\n",
              "freq        705\n",
              "Name: BHK, dtype: object"
            ]
          },
          "metadata": {},
          "execution_count": 17
        }
      ]
    },
    {
      "cell_type": "markdown",
      "source": [
        "just dont know why the describe funtion is not working for 'Total_Sqft' and 'Prices_per_Sqft' for the above code."
      ],
      "metadata": {
        "id": "Z4rrFWTXszxn"
      }
    },
    {
      "cell_type": "markdown",
      "source": [
        "**Building the model from here**"
      ],
      "metadata": {
        "id": "VReMjklwwitu"
      }
    },
    {
      "cell_type": "code",
      "source": [
        "df2.shape"
      ],
      "metadata": {
        "colab": {
          "base_uri": "https://localhost:8080/"
        },
        "id": "jP08NBRFsvZj",
        "outputId": "88d63cc2-e031-42b7-bac8-89ed233a29c0"
      },
      "execution_count": 18,
      "outputs": [
        {
          "output_type": "execute_result",
          "data": {
            "text/plain": [
              "(3956, 11)"
            ]
          },
          "metadata": {},
          "execution_count": 18
        }
      ]
    },
    {
      "cell_type": "code",
      "source": [
        "df2.head()"
      ],
      "metadata": {
        "colab": {
          "base_uri": "https://localhost:8080/",
          "height": 250
        },
        "id": "VjX-5kTmzZVm",
        "outputId": "9b1e8b8d-c2ac-4f17-955c-993b47d322c0"
      },
      "execution_count": 48,
      "outputs": [
        {
          "output_type": "execute_result",
          "data": {
            "text/plain": [
              "  Flat_Price  EMI_Starts    BHK         HOUSE_TYPE      Purpose  \\\n",
              "0    ₹8.5 Cr  ₹4.22 Lacs  6 BHK  Independent House  for sale in   \n",
              "1    ₹45.0 L    ₹23.83 K  3 BHK  Independent House  for sale in   \n",
              "2   ₹1.35 Cr    ₹67.02 K  3 BHK  Independent House  for sale in   \n",
              "3    ₹60.0 L    ₹31.77 K  5 BHK  Independent House  for sale in   \n",
              "4    ₹52.0 L    ₹27.54 K  4 BHK  Independent House  for sale in   \n",
              "\n",
              "               Location      Area_Type  Total_Sqft  Price_per_Sqft  \\\n",
              "0   Ballygunge, Kolkata  Build Up Area  4200 sq.ft  ₹20.24 K/sq.ft   \n",
              "1  Barrackpore, Kolkata  Build Up Area  1400 sq.ft   ₹3.21 K/sq.ft   \n",
              "2   Santoshpur, Kolkata  Build Up Area  2500 sq.ft   ₹5.40 K/sq.ft   \n",
              "3      Sarsuna, Kolkata  Build Up Area  1100 sq.ft   ₹5.45 K/sq.ft   \n",
              "4  Madhyamgram, Kolkata  Build Up Area   900 sq.ft   ₹5.78 K/sq.ft   \n",
              "\n",
              "             Owner_name      Owner_type  \n",
              "0   Abhijit Chakraborty  Housing Expert  \n",
              "1       Virtual Reality  Housing Expert  \n",
              "2     AveNew Properties  Housing Expert  \n",
              "3  Ganapati Real Estate  Housing Expert  \n",
              "4  Third Eye Consulting  Housing Expert  "
            ],
            "text/html": [
              "\n",
              "  <div id=\"df-750d8868-c732-4f0a-b263-efc9186f0533\">\n",
              "    <div class=\"colab-df-container\">\n",
              "      <div>\n",
              "<style scoped>\n",
              "    .dataframe tbody tr th:only-of-type {\n",
              "        vertical-align: middle;\n",
              "    }\n",
              "\n",
              "    .dataframe tbody tr th {\n",
              "        vertical-align: top;\n",
              "    }\n",
              "\n",
              "    .dataframe thead th {\n",
              "        text-align: right;\n",
              "    }\n",
              "</style>\n",
              "<table border=\"1\" class=\"dataframe\">\n",
              "  <thead>\n",
              "    <tr style=\"text-align: right;\">\n",
              "      <th></th>\n",
              "      <th>Flat_Price</th>\n",
              "      <th>EMI_Starts</th>\n",
              "      <th>BHK</th>\n",
              "      <th>HOUSE_TYPE</th>\n",
              "      <th>Purpose</th>\n",
              "      <th>Location</th>\n",
              "      <th>Area_Type</th>\n",
              "      <th>Total_Sqft</th>\n",
              "      <th>Price_per_Sqft</th>\n",
              "      <th>Owner_name</th>\n",
              "      <th>Owner_type</th>\n",
              "    </tr>\n",
              "  </thead>\n",
              "  <tbody>\n",
              "    <tr>\n",
              "      <th>0</th>\n",
              "      <td>₹8.5 Cr</td>\n",
              "      <td>₹4.22 Lacs</td>\n",
              "      <td>6 BHK</td>\n",
              "      <td>Independent House</td>\n",
              "      <td>for sale in</td>\n",
              "      <td>Ballygunge, Kolkata</td>\n",
              "      <td>Build Up Area</td>\n",
              "      <td>4200 sq.ft</td>\n",
              "      <td>₹20.24 K/sq.ft</td>\n",
              "      <td>Abhijit Chakraborty</td>\n",
              "      <td>Housing Expert</td>\n",
              "    </tr>\n",
              "    <tr>\n",
              "      <th>1</th>\n",
              "      <td>₹45.0 L</td>\n",
              "      <td>₹23.83 K</td>\n",
              "      <td>3 BHK</td>\n",
              "      <td>Independent House</td>\n",
              "      <td>for sale in</td>\n",
              "      <td>Barrackpore, Kolkata</td>\n",
              "      <td>Build Up Area</td>\n",
              "      <td>1400 sq.ft</td>\n",
              "      <td>₹3.21 K/sq.ft</td>\n",
              "      <td>Virtual Reality</td>\n",
              "      <td>Housing Expert</td>\n",
              "    </tr>\n",
              "    <tr>\n",
              "      <th>2</th>\n",
              "      <td>₹1.35 Cr</td>\n",
              "      <td>₹67.02 K</td>\n",
              "      <td>3 BHK</td>\n",
              "      <td>Independent House</td>\n",
              "      <td>for sale in</td>\n",
              "      <td>Santoshpur, Kolkata</td>\n",
              "      <td>Build Up Area</td>\n",
              "      <td>2500 sq.ft</td>\n",
              "      <td>₹5.40 K/sq.ft</td>\n",
              "      <td>AveNew Properties</td>\n",
              "      <td>Housing Expert</td>\n",
              "    </tr>\n",
              "    <tr>\n",
              "      <th>3</th>\n",
              "      <td>₹60.0 L</td>\n",
              "      <td>₹31.77 K</td>\n",
              "      <td>5 BHK</td>\n",
              "      <td>Independent House</td>\n",
              "      <td>for sale in</td>\n",
              "      <td>Sarsuna, Kolkata</td>\n",
              "      <td>Build Up Area</td>\n",
              "      <td>1100 sq.ft</td>\n",
              "      <td>₹5.45 K/sq.ft</td>\n",
              "      <td>Ganapati Real Estate</td>\n",
              "      <td>Housing Expert</td>\n",
              "    </tr>\n",
              "    <tr>\n",
              "      <th>4</th>\n",
              "      <td>₹52.0 L</td>\n",
              "      <td>₹27.54 K</td>\n",
              "      <td>4 BHK</td>\n",
              "      <td>Independent House</td>\n",
              "      <td>for sale in</td>\n",
              "      <td>Madhyamgram, Kolkata</td>\n",
              "      <td>Build Up Area</td>\n",
              "      <td>900 sq.ft</td>\n",
              "      <td>₹5.78 K/sq.ft</td>\n",
              "      <td>Third Eye Consulting</td>\n",
              "      <td>Housing Expert</td>\n",
              "    </tr>\n",
              "  </tbody>\n",
              "</table>\n",
              "</div>\n",
              "      <button class=\"colab-df-convert\" onclick=\"convertToInteractive('df-750d8868-c732-4f0a-b263-efc9186f0533')\"\n",
              "              title=\"Convert this dataframe to an interactive table.\"\n",
              "              style=\"display:none;\">\n",
              "        \n",
              "  <svg xmlns=\"http://www.w3.org/2000/svg\" height=\"24px\"viewBox=\"0 0 24 24\"\n",
              "       width=\"24px\">\n",
              "    <path d=\"M0 0h24v24H0V0z\" fill=\"none\"/>\n",
              "    <path d=\"M18.56 5.44l.94 2.06.94-2.06 2.06-.94-2.06-.94-.94-2.06-.94 2.06-2.06.94zm-11 1L8.5 8.5l.94-2.06 2.06-.94-2.06-.94L8.5 2.5l-.94 2.06-2.06.94zm10 10l.94 2.06.94-2.06 2.06-.94-2.06-.94-.94-2.06-.94 2.06-2.06.94z\"/><path d=\"M17.41 7.96l-1.37-1.37c-.4-.4-.92-.59-1.43-.59-.52 0-1.04.2-1.43.59L10.3 9.45l-7.72 7.72c-.78.78-.78 2.05 0 2.83L4 21.41c.39.39.9.59 1.41.59.51 0 1.02-.2 1.41-.59l7.78-7.78 2.81-2.81c.8-.78.8-2.07 0-2.86zM5.41 20L4 18.59l7.72-7.72 1.47 1.35L5.41 20z\"/>\n",
              "  </svg>\n",
              "      </button>\n",
              "      \n",
              "  <style>\n",
              "    .colab-df-container {\n",
              "      display:flex;\n",
              "      flex-wrap:wrap;\n",
              "      gap: 12px;\n",
              "    }\n",
              "\n",
              "    .colab-df-convert {\n",
              "      background-color: #E8F0FE;\n",
              "      border: none;\n",
              "      border-radius: 50%;\n",
              "      cursor: pointer;\n",
              "      display: none;\n",
              "      fill: #1967D2;\n",
              "      height: 32px;\n",
              "      padding: 0 0 0 0;\n",
              "      width: 32px;\n",
              "    }\n",
              "\n",
              "    .colab-df-convert:hover {\n",
              "      background-color: #E2EBFA;\n",
              "      box-shadow: 0px 1px 2px rgba(60, 64, 67, 0.3), 0px 1px 3px 1px rgba(60, 64, 67, 0.15);\n",
              "      fill: #174EA6;\n",
              "    }\n",
              "\n",
              "    [theme=dark] .colab-df-convert {\n",
              "      background-color: #3B4455;\n",
              "      fill: #D2E3FC;\n",
              "    }\n",
              "\n",
              "    [theme=dark] .colab-df-convert:hover {\n",
              "      background-color: #434B5C;\n",
              "      box-shadow: 0px 1px 3px 1px rgba(0, 0, 0, 0.15);\n",
              "      filter: drop-shadow(0px 1px 2px rgba(0, 0, 0, 0.3));\n",
              "      fill: #FFFFFF;\n",
              "    }\n",
              "  </style>\n",
              "\n",
              "      <script>\n",
              "        const buttonEl =\n",
              "          document.querySelector('#df-750d8868-c732-4f0a-b263-efc9186f0533 button.colab-df-convert');\n",
              "        buttonEl.style.display =\n",
              "          google.colab.kernel.accessAllowed ? 'block' : 'none';\n",
              "\n",
              "        async function convertToInteractive(key) {\n",
              "          const element = document.querySelector('#df-750d8868-c732-4f0a-b263-efc9186f0533');\n",
              "          const dataTable =\n",
              "            await google.colab.kernel.invokeFunction('convertToInteractive',\n",
              "                                                     [key], {});\n",
              "          if (!dataTable) return;\n",
              "\n",
              "          const docLinkHtml = 'Like what you see? Visit the ' +\n",
              "            '<a target=\"_blank\" href=https://colab.research.google.com/notebooks/data_table.ipynb>data table notebook</a>'\n",
              "            + ' to learn more about interactive tables.';\n",
              "          element.innerHTML = '';\n",
              "          dataTable['output_type'] = 'display_data';\n",
              "          await google.colab.output.renderOutput(dataTable, element);\n",
              "          const docLink = document.createElement('div');\n",
              "          docLink.innerHTML = docLinkHtml;\n",
              "          element.appendChild(docLink);\n",
              "        }\n",
              "      </script>\n",
              "    </div>\n",
              "  </div>\n",
              "  "
            ]
          },
          "metadata": {},
          "execution_count": 48
        }
      ]
    },
    {
      "cell_type": "code",
      "source": [
        "y = df2.Flat_Price\n",
        "y.head()"
      ],
      "metadata": {
        "colab": {
          "base_uri": "https://localhost:8080/"
        },
        "id": "-UVAtGEUwPRe",
        "outputId": "890dfc35-de45-4465-cece-fb5f9e3ac4bd"
      },
      "execution_count": 52,
      "outputs": [
        {
          "output_type": "execute_result",
          "data": {
            "text/plain": [
              "0     ₹8.5 Cr\n",
              "1     ₹45.0 L\n",
              "2    ₹1.35 Cr\n",
              "3     ₹60.0 L\n",
              "4     ₹52.0 L\n",
              "Name: Flat_Price, dtype: object"
            ]
          },
          "metadata": {},
          "execution_count": 52
        }
      ]
    },
    {
      "cell_type": "code",
      "source": [
        "len(y)"
      ],
      "metadata": {
        "colab": {
          "base_uri": "https://localhost:8080/"
        },
        "id": "laNfZvuz9fJ5",
        "outputId": "9df23b0e-a805-485d-c19e-460c48cb58db"
      },
      "execution_count": 53,
      "outputs": [
        {
          "output_type": "execute_result",
          "data": {
            "text/plain": [
              "3956"
            ]
          },
          "metadata": {},
          "execution_count": 53
        }
      ]
    },
    {
      "cell_type": "code",
      "source": [
        "X = df2.BHK\n",
        "X.head()"
      ],
      "metadata": {
        "colab": {
          "base_uri": "https://localhost:8080/"
        },
        "id": "oB5MctSn9QJd",
        "outputId": "d2823677-48ae-4d8d-c893-48c28f6e0427"
      },
      "execution_count": 38,
      "outputs": [
        {
          "output_type": "execute_result",
          "data": {
            "text/plain": [
              "0    6 BHK\n",
              "1    3 BHK\n",
              "2    3 BHK\n",
              "3    5 BHK\n",
              "4    4 BHK\n",
              "Name: BHK, dtype: object"
            ]
          },
          "metadata": {},
          "execution_count": 38
        }
      ]
    },
    {
      "cell_type": "code",
      "source": [
        "len(X)"
      ],
      "metadata": {
        "colab": {
          "base_uri": "https://localhost:8080/"
        },
        "id": "cpL_vsjlv3xE",
        "outputId": "bcadda50-b0c1-4ba0-9d28-3ec0db1eb868"
      },
      "execution_count": 40,
      "outputs": [
        {
          "output_type": "execute_result",
          "data": {
            "text/plain": [
              "3956"
            ]
          },
          "metadata": {},
          "execution_count": 40
        }
      ]
    },
    {
      "cell_type": "code",
      "source": [
        "%matplotlib inline\n",
        "plt.xlabel('BHK')\n",
        "plt.ylabel('Flat_Price')\n",
        "plt.scatter(df2.BHK,df2.Flat_Price,color='red',marker='+');"
      ],
      "metadata": {
        "colab": {
          "base_uri": "https://localhost:8080/",
          "height": 279
        },
        "id": "0IZXqPyGBHBs",
        "outputId": "c9f0a20e-e97c-4f21-d7dd-37e6f9583ee5"
      },
      "execution_count": 45,
      "outputs": [
        {
          "output_type": "display_data",
          "data": {
            "text/plain": [
              "<Figure size 432x288 with 1 Axes>"
            ],
            "image/png": "[encoded data removed]"
          },
          "metadata": {
            "needs_background": "light"
          }
        }
      ]
    },
    {
      "cell_type": "code",
      "source": [
        "from sklearn.model_selection import train_test_split\n",
        "X_train, X_test, y_train, y_test = train_test_split(X,y,test_size=0.2,random_state=10)"
      ],
      "metadata": {
        "id": "u-u_IkhXyP72"
      },
      "execution_count": 54,
      "outputs": []
    },
    {
      "cell_type": "code",
      "source": [
        "from sklearn.linear_model import LinearRegression\n",
        "reg = LinearRegression()\n",
        "reg.fit(X_train,y_train)\n",
        "reg.score(X_test,y_test)"
      ],
      "metadata": {
        "colab": {
          "base_uri": "https://localhost:8080/",
          "height": 363
        },
        "id": "Q0qhlbCd-_U5",
        "outputId": "98041335-1b9e-4181-98a2-714b071b528b"
      },
      "execution_count": 56,
      "outputs": [
        {
          "output_type": "error",
          "ename": "ValueError",
          "evalue": "ignored",
          "traceback": [
            "\u001b[0;31m---------------------------------------------------------------------------\u001b[0m",
            "\u001b[0;31mValueError\u001b[0m                                Traceback (most recent call last)",
            "\u001b[0;32m<ipython-input-56-8f535a307fe6>\u001b[0m in \u001b[0;36m<module>\u001b[0;34m()\u001b[0m\n\u001b[1;32m      1\u001b[0m \u001b[0;32mfrom\u001b[0m \u001b[0msklearn\u001b[0m\u001b[0;34m.\u001b[0m\u001b[0mlinear_model\u001b[0m \u001b[0;32mimport\u001b[0m \u001b[0mLinearRegression\u001b[0m\u001b[0;34m\u001b[0m\u001b[0;34m\u001b[0m\u001b[0m\n\u001b[1;32m      2\u001b[0m \u001b[0mreg\u001b[0m \u001b[0;34m=\u001b[0m \u001b[0mLinearRegression\u001b[0m\u001b[0;34m(\u001b[0m\u001b[0;34m)\u001b[0m\u001b[0;34m\u001b[0m\u001b[0;34m\u001b[0m\u001b[0m\n\u001b[0;32m----> 3\u001b[0;31m \u001b[0mreg\u001b[0m\u001b[0;34m.\u001b[0m\u001b[0mfit\u001b[0m\u001b[0;34m(\u001b[0m\u001b[0mX_train\u001b[0m\u001b[0;34m,\u001b[0m\u001b[0my_train\u001b[0m\u001b[0;34m)\u001b[0m\u001b[0;34m\u001b[0m\u001b[0;34m\u001b[0m\u001b[0m\n\u001b[0m\u001b[1;32m      4\u001b[0m \u001b[0mreg\u001b[0m\u001b[0;34m.\u001b[0m\u001b[0mscore\u001b[0m\u001b[0;34m(\u001b[0m\u001b[0mX_test\u001b[0m\u001b[0;34m,\u001b[0m\u001b[0my_test\u001b[0m\u001b[0;34m)\u001b[0m\u001b[0;34m\u001b[0m\u001b[0;34m\u001b[0m\u001b[0m\n",
            "\u001b[0;32m/usr/local/lib/python3.7/dist-packages/sklearn/linear_model/_base.py\u001b[0m in \u001b[0;36mfit\u001b[0;34m(self, X, y, sample_weight)\u001b[0m\n\u001b[1;32m    661\u001b[0m \u001b[0;34m\u001b[0m\u001b[0m\n\u001b[1;32m    662\u001b[0m         X, y = self._validate_data(\n\u001b[0;32m--> 663\u001b[0;31m             \u001b[0mX\u001b[0m\u001b[0;34m,\u001b[0m \u001b[0my\u001b[0m\u001b[0;34m,\u001b[0m \u001b[0maccept_sparse\u001b[0m\u001b[0;34m=\u001b[0m\u001b[0maccept_sparse\u001b[0m\u001b[0;34m,\u001b[0m \u001b[0my_numeric\u001b[0m\u001b[0;34m=\u001b[0m\u001b[0;32mTrue\u001b[0m\u001b[0;34m,\u001b[0m \u001b[0mmulti_output\u001b[0m\u001b[0;34m=\u001b[0m\u001b[0;32mTrue\u001b[0m\u001b[0;34m\u001b[0m\u001b[0;34m\u001b[0m\u001b[0m\n\u001b[0m\u001b[1;32m    664\u001b[0m         )\n\u001b[1;32m    665\u001b[0m \u001b[0;34m\u001b[0m\u001b[0m\n",
            "\u001b[0;32m/usr/local/lib/python3.7/dist-packages/sklearn/base.py\u001b[0m in \u001b[0;36m_validate_data\u001b[0;34m(self, X, y, reset, validate_separately, **check_params)\u001b[0m\n\u001b[1;32m    579\u001b[0m                 \u001b[0my\u001b[0m \u001b[0;34m=\u001b[0m \u001b[0mcheck_array\u001b[0m\u001b[0;34m(\u001b[0m\u001b[0my\u001b[0m\u001b[0;34m,\u001b[0m \u001b[0;34m**\u001b[0m\u001b[0mcheck_y_params\u001b[0m\u001b[0;34m)\u001b[0m\u001b[0;34m\u001b[0m\u001b[0;34m\u001b[0m\u001b[0m\n\u001b[1;32m    580\u001b[0m             \u001b[0;32melse\u001b[0m\u001b[0;34m:\u001b[0m\u001b[0;34m\u001b[0m\u001b[0;34m\u001b[0m\u001b[0m\n\u001b[0;32m--> 581\u001b[0;31m                 \u001b[0mX\u001b[0m\u001b[0;34m,\u001b[0m \u001b[0my\u001b[0m \u001b[0;34m=\u001b[0m \u001b[0mcheck_X_y\u001b[0m\u001b[0;34m(\u001b[0m\u001b[0mX\u001b[0m\u001b[0;34m,\u001b[0m \u001b[0my\u001b[0m\u001b[0;34m,\u001b[0m \u001b[0;34m**\u001b[0m\u001b[0mcheck_params\u001b[0m\u001b[0;34m)\u001b[0m\u001b[0;34m\u001b[0m\u001b[0;34m\u001b[0m\u001b[0m\n\u001b[0m\u001b[1;32m    582\u001b[0m             \u001b[0mout\u001b[0m \u001b[0;34m=\u001b[0m \u001b[0mX\u001b[0m\u001b[0;34m,\u001b[0m \u001b[0my\u001b[0m\u001b[0;34m\u001b[0m\u001b[0;34m\u001b[0m\u001b[0m\n\u001b[1;32m    583\u001b[0m \u001b[0;34m\u001b[0m\u001b[0m\n",
            "\u001b[0;32m/usr/local/lib/python3.7/dist-packages/sklearn/utils/validation.py\u001b[0m in \u001b[0;36mcheck_X_y\u001b[0;34m(X, y, accept_sparse, accept_large_sparse, dtype, order, copy, force_all_finite, ensure_2d, allow_nd, multi_output, ensure_min_samples, ensure_min_features, y_numeric, estimator)\u001b[0m\n\u001b[1;32m    974\u001b[0m         \u001b[0mensure_min_samples\u001b[0m\u001b[0;34m=\u001b[0m\u001b[0mensure_min_samples\u001b[0m\u001b[0;34m,\u001b[0m\u001b[0;34m\u001b[0m\u001b[0;34m\u001b[0m\u001b[0m\n\u001b[1;32m    975\u001b[0m         \u001b[0mensure_min_features\u001b[0m\u001b[0;34m=\u001b[0m\u001b[0mensure_min_features\u001b[0m\u001b[0;34m,\u001b[0m\u001b[0;34m\u001b[0m\u001b[0;34m\u001b[0m\u001b[0m\n\u001b[0;32m--> 976\u001b[0;31m         \u001b[0mestimator\u001b[0m\u001b[0;34m=\u001b[0m\u001b[0mestimator\u001b[0m\u001b[0;34m,\u001b[0m\u001b[0;34m\u001b[0m\u001b[0;34m\u001b[0m\u001b[0m\n\u001b[0m\u001b[1;32m    977\u001b[0m     )\n\u001b[1;32m    978\u001b[0m \u001b[0;34m\u001b[0m\u001b[0m\n",
            "\u001b[0;32m/usr/local/lib/python3.7/dist-packages/sklearn/utils/validation.py\u001b[0m in \u001b[0;36mcheck_array\u001b[0;34m(array, accept_sparse, accept_large_sparse, dtype, order, copy, force_all_finite, ensure_2d, allow_nd, ensure_min_samples, ensure_min_features, estimator)\u001b[0m\n\u001b[1;32m    744\u001b[0m                     \u001b[0marray\u001b[0m \u001b[0;34m=\u001b[0m \u001b[0marray\u001b[0m\u001b[0;34m.\u001b[0m\u001b[0mastype\u001b[0m\u001b[0;34m(\u001b[0m\u001b[0mdtype\u001b[0m\u001b[0;34m,\u001b[0m \u001b[0mcasting\u001b[0m\u001b[0;34m=\u001b[0m\u001b[0;34m\"unsafe\"\u001b[0m\u001b[0;34m,\u001b[0m \u001b[0mcopy\u001b[0m\u001b[0;34m=\u001b[0m\u001b[0;32mFalse\u001b[0m\u001b[0;34m)\u001b[0m\u001b[0;34m\u001b[0m\u001b[0;34m\u001b[0m\u001b[0m\n\u001b[1;32m    745\u001b[0m                 \u001b[0;32melse\u001b[0m\u001b[0;34m:\u001b[0m\u001b[0;34m\u001b[0m\u001b[0;34m\u001b[0m\u001b[0m\n\u001b[0;32m--> 746\u001b[0;31m                     \u001b[0marray\u001b[0m \u001b[0;34m=\u001b[0m \u001b[0mnp\u001b[0m\u001b[0;34m.\u001b[0m\u001b[0masarray\u001b[0m\u001b[0;34m(\u001b[0m\u001b[0marray\u001b[0m\u001b[0;34m,\u001b[0m \u001b[0morder\u001b[0m\u001b[0;34m=\u001b[0m\u001b[0morder\u001b[0m\u001b[0;34m,\u001b[0m \u001b[0mdtype\u001b[0m\u001b[0;34m=\u001b[0m\u001b[0mdtype\u001b[0m\u001b[0;34m)\u001b[0m\u001b[0;34m\u001b[0m\u001b[0;34m\u001b[0m\u001b[0m\n\u001b[0m\u001b[1;32m    747\u001b[0m             \u001b[0;32mexcept\u001b[0m \u001b[0mComplexWarning\u001b[0m \u001b[0;32mas\u001b[0m \u001b[0mcomplex_warning\u001b[0m\u001b[0;34m:\u001b[0m\u001b[0;34m\u001b[0m\u001b[0;34m\u001b[0m\u001b[0m\n\u001b[1;32m    748\u001b[0m                 raise ValueError(\n",
            "\u001b[0;32m/usr/local/lib/python3.7/dist-packages/pandas/core/series.py\u001b[0m in \u001b[0;36m__array__\u001b[0;34m(self, dtype)\u001b[0m\n\u001b[1;32m    855\u001b[0m               dtype='datetime64[ns]')\n\u001b[1;32m    856\u001b[0m         \"\"\"\n\u001b[0;32m--> 857\u001b[0;31m         \u001b[0;32mreturn\u001b[0m \u001b[0mnp\u001b[0m\u001b[0;34m.\u001b[0m\u001b[0masarray\u001b[0m\u001b[0;34m(\u001b[0m\u001b[0mself\u001b[0m\u001b[0;34m.\u001b[0m\u001b[0m_values\u001b[0m\u001b[0;34m,\u001b[0m \u001b[0mdtype\u001b[0m\u001b[0;34m)\u001b[0m\u001b[0;34m\u001b[0m\u001b[0;34m\u001b[0m\u001b[0m\n\u001b[0m\u001b[1;32m    858\u001b[0m \u001b[0;34m\u001b[0m\u001b[0m\n\u001b[1;32m    859\u001b[0m     \u001b[0;31m# ----------------------------------------------------------------------\u001b[0m\u001b[0;34m\u001b[0m\u001b[0;34m\u001b[0m\u001b[0;34m\u001b[0m\u001b[0m\n",
            "\u001b[0;31mValueError\u001b[0m: could not convert string to float: '2 BHK'"
          ]
        }
      ]
    }
  ]
}