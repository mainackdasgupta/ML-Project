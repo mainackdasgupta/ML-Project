{
  "nbformat": 4,
  "nbformat_minor": 0,
  "metadata": {
    "colab": {
      "name": "Kolkata Home Price Prediction.ipynb",
      "provenance": [],
      "authorship_tag": "ABX9TyNGkL+hxM5fTTBS/2z4k+8d",
      "include_colab_link": true
    },
    "kernelspec": {
      "name": "python3",
      "display_name": "Python 3"
    },
    "language_info": {
      "name": "python"
    }
  },
  "cells": [
    {
      "cell_type": "markdown",
      "metadata": {
        "id": "view-in-github",
        "colab_type": "text"
      },
      "source": [
        "<a href=\"https://colab.research.google.com/github/mainackdasgupta/ML-Project/blob/main/Kolkata_Home_Price_Prediction.ipynb\" target=\"_parent\"><img src=\"https://colab.research.google.com/assets/colab-badge.svg\" alt=\"Open In Colab\"/></a>"
      ]
    },
    {
      "cell_type": "markdown",
      "source": [
        "Data set link : https://www.kaggle.com/datasets/kuntalmaity/house-price "
      ],
      "metadata": {
        "id": "hMnXvVMK2hOU"
      }
    },
    {
      "cell_type": "code",
      "execution_count": 1,
      "metadata": {
        "colab": {
          "resources": {
            "http://localhost:8080/nbextensions/google.colab/files.js": {
              "data": "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",
              "ok": true,
              "headers": [
                [
                  "content-type",
                  "application/javascript"
                ]
              ],
              "status": 200,
              "status_text": ""
            }
          },
          "base_uri": "https://localhost:8080/",
          "height": 73
        },
        "id": "TuO9Rrq9MFZQ",
        "outputId": "2d5a33fd-5534-4cf2-bec5-c76a477f54a9"
      },
      "outputs": [
        {
          "output_type": "display_data",
          "data": {
            "text/plain": [
              "<IPython.core.display.HTML object>"
            ],
            "text/html": [
              "\n",
              "     <input type=\"file\" id=\"files-297d5412-f0dc-4e11-a560-5bf0d71e14d2\" name=\"files[]\" multiple disabled\n",
              "        style=\"border:none\" />\n",
              "     <output id=\"result-297d5412-f0dc-4e11-a560-5bf0d71e14d2\">\n",
              "      Upload widget is only available when the cell has been executed in the\n",
              "      current browser session. Please rerun this cell to enable.\n",
              "      </output>\n",
              "      <script src=\"/nbextensions/google.colab/files.js\"></script> "
            ]
          },
          "metadata": {}
        },
        {
          "output_type": "stream",
          "name": "stdout",
          "text": [
            "Saving House_Price.csv to House_Price.csv\n"
          ]
        }
      ],
      "source": [
        "import pandas as pd\n",
        "import numpy as np\n",
        "from matplotlib import pyplot as plt\n",
        "%matplotlib inline\n",
        "import matplotlib \n",
        "matplotlib.rcParams[\"figure.figsize\"] = (20,10)\n",
        "from google.colab import files\n",
        "import io\n",
        "uploaded = files.upload()"
      ]
    },
    {
      "cell_type": "code",
      "source": [
        "df = pd.read_csv('House_Price.csv')\n",
        "print(df)"
      ],
      "metadata": {
        "colab": {
          "base_uri": "https://localhost:8080/"
        },
        "id": "fo3rzX53Mr2t",
        "outputId": "f6529fd8-761a-453f-86a9-5b348838dcd7"
      },
      "execution_count": 13,
      "outputs": [
        {
          "output_type": "stream",
          "name": "stdout",
          "text": [
            "     Flat_Price  EMI_Starts    BHK  css-11nfaq3 Unnamed: 4         HOUSE_TYPE  \\\n",
            "0       ₹8.5 Cr  ₹4.22 Lacs  6 BHK          6.0        BHK  Independent House   \n",
            "1       ₹45.0 L    ₹23.83 K  3 BHK          3.0        BHK  Independent House   \n",
            "2      ₹1.35 Cr    ₹67.02 K  3 BHK          3.0        BHK  Independent House   \n",
            "3       ₹60.0 L    ₹31.77 K  5 BHK          5.0        BHK  Independent House   \n",
            "4       ₹52.0 L    ₹27.54 K  4 BHK          4.0        BHK  Independent House   \n",
            "...         ...         ...    ...          ...        ...                ...   \n",
            "3963    ₹13.0 L     ₹6.88 K  2 BHK          2.0        BHK  Independent House   \n",
            "3964    ₹1.5 Cr    ₹74.47 K  8 BHK          8.0        BHK  Independent House   \n",
            "3965    ₹50.0 L    ₹26.48 K  5 BHK          5.0        BHK  Independent House   \n",
            "3966    ₹1.1 Cr    ₹54.61 K  5 BHK          5.0        BHK  Independent House   \n",
            "3967    ₹30.0 L    ₹15.89 K  2 BHK          2.0        BHK  Independent House   \n",
            "\n",
            "       Unnamed: 6 Unnamed: 7      Purpose                  Location  \\\n",
            "0     Independent      House  for sale in       Ballygunge, Kolkata   \n",
            "1     Independent      House  for sale in      Barrackpore, Kolkata   \n",
            "2     Independent      House  for sale in       Santoshpur, Kolkata   \n",
            "3     Independent      House  for sale in          Sarsuna, Kolkata   \n",
            "4     Independent      House  for sale in      Madhyamgram, Kolkata   \n",
            "...           ...        ...          ...                       ...   \n",
            "3963  Independent      House  for sale in    Picnic Garden, Kolkata   \n",
            "3964  Independent      House  for sale in  Rajpur Sonarpur, Kolkata   \n",
            "3965  Independent      House  for sale in           Amtala, Kolkata   \n",
            "3966  Independent      House  for sale in       Tollygunge, Kolkata   \n",
            "3967  Independent      House  for sale in          Naihati, Kolkata   \n",
            "\n",
            "          Area_Type Total_Sq.ft Price_per_sq.ft            Owner_name  \\\n",
            "0     Build Up Area  4200 sq.ft  ₹20.24 K/sq.ft   Abhijit Chakraborty   \n",
            "1     Build Up Area  1400 sq.ft   ₹3.21 K/sq.ft       Virtual Reality   \n",
            "2     Build Up Area  2500 sq.ft   ₹5.40 K/sq.ft     AveNew Properties   \n",
            "3     Build Up Area  1100 sq.ft   ₹5.45 K/sq.ft  Ganapati Real Estate   \n",
            "4     Build Up Area   900 sq.ft   ₹5.78 K/sq.ft  Third Eye Consulting   \n",
            "...             ...         ...             ...                   ...   \n",
            "3963  Build Up Area  1500 sq.ft      ₹866/sq.ft            Goutam Dey   \n",
            "3964  Build Up Area  2560 sq.ft   ₹5.86 K/sq.ft        Alak Kumar Roy   \n",
            "3965  Build Up Area  1900 sq.ft   ₹2.63 K/sq.ft              Sarishma   \n",
            "3966  Build Up Area  2600 sq.ft   ₹4.23 K/sq.ft     MEDIATOR REALTORS   \n",
            "3967  Build Up Area   950 sq.ft   ₹3.16 K/sq.ft           S Mukherjee   \n",
            "\n",
            "          Owner_type  \n",
            "0     Housing Expert  \n",
            "1     Housing Expert  \n",
            "2     Housing Expert  \n",
            "3     Housing Expert  \n",
            "4     Housing Expert  \n",
            "...              ...  \n",
            "3963           Owner  \n",
            "3964           Owner  \n",
            "3965           Owner  \n",
            "3966           Agent  \n",
            "3967           Owner  \n",
            "\n",
            "[3968 rows x 15 columns]\n"
          ]
        }
      ]
    },
    {
      "cell_type": "code",
      "source": [
        "df.isnull().sum()"
      ],
      "metadata": {
        "colab": {
          "base_uri": "https://localhost:8080/"
        },
        "id": "-83TYtHKPOYs",
        "outputId": "bc54c80c-fcc7-459f-926a-008e67b1c30c"
      },
      "execution_count": 4,
      "outputs": [
        {
          "output_type": "execute_result",
          "data": {
            "text/plain": [
              "Flat_Price          0\n",
              "EMI_Starts          0\n",
              "BHK                 0\n",
              "css-11nfaq3         2\n",
              "Unnamed: 4          2\n",
              "HOUSE_TYPE          0\n",
              "Unnamed: 6          2\n",
              "Unnamed: 7          2\n",
              "Purpose             2\n",
              "Location            2\n",
              "Area_Type           0\n",
              "Total_Sq.ft         0\n",
              "Price_per_sq.ft     0\n",
              "Owner_name         10\n",
              "Owner_type          0\n",
              "dtype: int64"
            ]
          },
          "metadata": {},
          "execution_count": 4
        }
      ]
    },
    {
      "cell_type": "code",
      "source": [
        "df.shape"
      ],
      "metadata": {
        "colab": {
          "base_uri": "https://localhost:8080/"
        },
        "id": "p7ySNY8FVgy8",
        "outputId": "6197f998-7483-48ff-b3ad-e1e0ae9f16c0"
      },
      "execution_count": 33,
      "outputs": [
        {
          "output_type": "execute_result",
          "data": {
            "text/plain": [
              "(3968, 15)"
            ]
          },
          "metadata": {},
          "execution_count": 33
        }
      ]
    },
    {
      "cell_type": "code",
      "source": [
        "df1 = df.dropna()\n",
        "df1.isnull().sum()"
      ],
      "metadata": {
        "colab": {
          "base_uri": "https://localhost:8080/"
        },
        "id": "ue4FhgGlUnOG",
        "outputId": "18801621-9bfe-4ce5-9b65-4d5cc1778141"
      },
      "execution_count": 5,
      "outputs": [
        {
          "output_type": "execute_result",
          "data": {
            "text/plain": [
              "Flat_Price         0\n",
              "EMI_Starts         0\n",
              "BHK                0\n",
              "css-11nfaq3        0\n",
              "Unnamed: 4         0\n",
              "HOUSE_TYPE         0\n",
              "Unnamed: 6         0\n",
              "Unnamed: 7         0\n",
              "Purpose            0\n",
              "Location           0\n",
              "Area_Type          0\n",
              "Total_Sq.ft        0\n",
              "Price_per_sq.ft    0\n",
              "Owner_name         0\n",
              "Owner_type         0\n",
              "dtype: int64"
            ]
          },
          "metadata": {},
          "execution_count": 5
        }
      ]
    },
    {
      "cell_type": "code",
      "source": [
        "df1.shape"
      ],
      "metadata": {
        "colab": {
          "base_uri": "https://localhost:8080/"
        },
        "id": "cg8eUB_MVS0A",
        "outputId": "f3fd6cee-f99e-49c1-b808-00940a41f08d"
      },
      "execution_count": 57,
      "outputs": [
        {
          "output_type": "execute_result",
          "data": {
            "text/plain": [
              "(3956, 15)"
            ]
          },
          "metadata": {},
          "execution_count": 57
        }
      ]
    },
    {
      "cell_type": "code",
      "source": [
        "print(df1)"
      ],
      "metadata": {
        "colab": {
          "base_uri": "https://localhost:8080/"
        },
        "id": "nNkmcg5zV4cT",
        "outputId": "71c21f97-25aa-4238-ffe2-ff7cc88052db"
      },
      "execution_count": 7,
      "outputs": [
        {
          "output_type": "stream",
          "name": "stdout",
          "text": [
            "     Flat_Price  EMI_Starts    BHK  css-11nfaq3 Unnamed: 4         HOUSE_TYPE  \\\n",
            "0       ₹8.5 Cr  ₹4.22 Lacs  6 BHK          6.0        BHK  Independent House   \n",
            "1       ₹45.0 L    ₹23.83 K  3 BHK          3.0        BHK  Independent House   \n",
            "2      ₹1.35 Cr    ₹67.02 K  3 BHK          3.0        BHK  Independent House   \n",
            "3       ₹60.0 L    ₹31.77 K  5 BHK          5.0        BHK  Independent House   \n",
            "4       ₹52.0 L    ₹27.54 K  4 BHK          4.0        BHK  Independent House   \n",
            "...         ...         ...    ...          ...        ...                ...   \n",
            "3963    ₹13.0 L     ₹6.88 K  2 BHK          2.0        BHK  Independent House   \n",
            "3964    ₹1.5 Cr    ₹74.47 K  8 BHK          8.0        BHK  Independent House   \n",
            "3965    ₹50.0 L    ₹26.48 K  5 BHK          5.0        BHK  Independent House   \n",
            "3966    ₹1.1 Cr    ₹54.61 K  5 BHK          5.0        BHK  Independent House   \n",
            "3967    ₹30.0 L    ₹15.89 K  2 BHK          2.0        BHK  Independent House   \n",
            "\n",
            "       Unnamed: 6 Unnamed: 7      Purpose                  Location  \\\n",
            "0     Independent      House  for sale in       Ballygunge, Kolkata   \n",
            "1     Independent      House  for sale in      Barrackpore, Kolkata   \n",
            "2     Independent      House  for sale in       Santoshpur, Kolkata   \n",
            "3     Independent      House  for sale in          Sarsuna, Kolkata   \n",
            "4     Independent      House  for sale in      Madhyamgram, Kolkata   \n",
            "...           ...        ...          ...                       ...   \n",
            "3963  Independent      House  for sale in    Picnic Garden, Kolkata   \n",
            "3964  Independent      House  for sale in  Rajpur Sonarpur, Kolkata   \n",
            "3965  Independent      House  for sale in           Amtala, Kolkata   \n",
            "3966  Independent      House  for sale in       Tollygunge, Kolkata   \n",
            "3967  Independent      House  for sale in          Naihati, Kolkata   \n",
            "\n",
            "          Area_Type Total_Sq.ft Price_per_sq.ft            Owner_name  \\\n",
            "0     Build Up Area  4200 sq.ft  ₹20.24 K/sq.ft   Abhijit Chakraborty   \n",
            "1     Build Up Area  1400 sq.ft   ₹3.21 K/sq.ft       Virtual Reality   \n",
            "2     Build Up Area  2500 sq.ft   ₹5.40 K/sq.ft     AveNew Properties   \n",
            "3     Build Up Area  1100 sq.ft   ₹5.45 K/sq.ft  Ganapati Real Estate   \n",
            "4     Build Up Area   900 sq.ft   ₹5.78 K/sq.ft  Third Eye Consulting   \n",
            "...             ...         ...             ...                   ...   \n",
            "3963  Build Up Area  1500 sq.ft      ₹866/sq.ft            Goutam Dey   \n",
            "3964  Build Up Area  2560 sq.ft   ₹5.86 K/sq.ft        Alak Kumar Roy   \n",
            "3965  Build Up Area  1900 sq.ft   ₹2.63 K/sq.ft              Sarishma   \n",
            "3966  Build Up Area  2600 sq.ft   ₹4.23 K/sq.ft     MEDIATOR REALTORS   \n",
            "3967  Build Up Area   950 sq.ft   ₹3.16 K/sq.ft           S Mukherjee   \n",
            "\n",
            "          Owner_type  \n",
            "0     Housing Expert  \n",
            "1     Housing Expert  \n",
            "2     Housing Expert  \n",
            "3     Housing Expert  \n",
            "4     Housing Expert  \n",
            "...              ...  \n",
            "3963           Owner  \n",
            "3964           Owner  \n",
            "3965           Owner  \n",
            "3966           Agent  \n",
            "3967           Owner  \n",
            "\n",
            "[3956 rows x 15 columns]\n"
          ]
        }
      ]
    },
    {
      "cell_type": "code",
      "source": [
        "df1.columns"
      ],
      "metadata": {
        "colab": {
          "base_uri": "https://localhost:8080/"
        },
        "id": "bmheE0SXYStA",
        "outputId": "e249ad99-c8f9-4261-8ed2-8e294f1f0fcd"
      },
      "execution_count": 8,
      "outputs": [
        {
          "output_type": "execute_result",
          "data": {
            "text/plain": [
              "Index(['Flat_Price', 'EMI_Starts', 'BHK', 'css-11nfaq3', 'Unnamed: 4',\n",
              "       'HOUSE_TYPE', 'Unnamed: 6', 'Unnamed: 7', 'Purpose', 'Location',\n",
              "       'Area_Type', 'Total_Sq.ft', 'Price_per_sq.ft', 'Owner_name',\n",
              "       'Owner_type'],\n",
              "      dtype='object')"
            ]
          },
          "metadata": {},
          "execution_count": 8
        }
      ]
    },
    {
      "cell_type": "code",
      "source": [
        "df2 = df1.drop(['css-11nfaq3','Unnamed: 6','Unnamed: 7','Unnamed: 4'],axis='columns')\n",
        "df2.shape"
      ],
      "metadata": {
        "colab": {
          "base_uri": "https://localhost:8080/"
        },
        "id": "j5Sp2y70YvBP",
        "outputId": "97f779e7-d1e5-4b14-a478-5b11c164286d"
      },
      "execution_count": 9,
      "outputs": [
        {
          "output_type": "execute_result",
          "data": {
            "text/plain": [
              "(3956, 11)"
            ]
          },
          "metadata": {},
          "execution_count": 9
        }
      ]
    },
    {
      "cell_type": "code",
      "source": [
        "print(df2)"
      ],
      "metadata": {
        "colab": {
          "base_uri": "https://localhost:8080/"
        },
        "id": "thOomZVg1ab5",
        "outputId": "29f98640-087b-4bf5-bdb6-f1c50b45200b"
      },
      "execution_count": 31,
      "outputs": [
        {
          "output_type": "stream",
          "name": "stdout",
          "text": [
            "     Flat_Price  EMI_Starts    BHK         HOUSE_TYPE      Purpose  \\\n",
            "0       ₹8.5 Cr  ₹4.22 Lacs  6 BHK  Independent House  for sale in   \n",
            "1       ₹45.0 L    ₹23.83 K  3 BHK  Independent House  for sale in   \n",
            "2      ₹1.35 Cr    ₹67.02 K  3 BHK  Independent House  for sale in   \n",
            "3       ₹60.0 L    ₹31.77 K  5 BHK  Independent House  for sale in   \n",
            "4       ₹52.0 L    ₹27.54 K  4 BHK  Independent House  for sale in   \n",
            "...         ...         ...    ...                ...          ...   \n",
            "3963    ₹13.0 L     ₹6.88 K  2 BHK  Independent House  for sale in   \n",
            "3964    ₹1.5 Cr    ₹74.47 K  8 BHK  Independent House  for sale in   \n",
            "3965    ₹50.0 L    ₹26.48 K  5 BHK  Independent House  for sale in   \n",
            "3966    ₹1.1 Cr    ₹54.61 K  5 BHK  Independent House  for sale in   \n",
            "3967    ₹30.0 L    ₹15.89 K  2 BHK  Independent House  for sale in   \n",
            "\n",
            "                      Location      Area_Type Total_Sq.ft Price_per_sq.ft  \\\n",
            "0          Ballygunge, Kolkata  Build Up Area  4200 sq.ft  ₹20.24 K/sq.ft   \n",
            "1         Barrackpore, Kolkata  Build Up Area  1400 sq.ft   ₹3.21 K/sq.ft   \n",
            "2          Santoshpur, Kolkata  Build Up Area  2500 sq.ft   ₹5.40 K/sq.ft   \n",
            "3             Sarsuna, Kolkata  Build Up Area  1100 sq.ft   ₹5.45 K/sq.ft   \n",
            "4         Madhyamgram, Kolkata  Build Up Area   900 sq.ft   ₹5.78 K/sq.ft   \n",
            "...                        ...            ...         ...             ...   \n",
            "3963    Picnic Garden, Kolkata  Build Up Area  1500 sq.ft      ₹866/sq.ft   \n",
            "3964  Rajpur Sonarpur, Kolkata  Build Up Area  2560 sq.ft   ₹5.86 K/sq.ft   \n",
            "3965           Amtala, Kolkata  Build Up Area  1900 sq.ft   ₹2.63 K/sq.ft   \n",
            "3966       Tollygunge, Kolkata  Build Up Area  2600 sq.ft   ₹4.23 K/sq.ft   \n",
            "3967          Naihati, Kolkata  Build Up Area   950 sq.ft   ₹3.16 K/sq.ft   \n",
            "\n",
            "                Owner_name      Owner_type  \n",
            "0      Abhijit Chakraborty  Housing Expert  \n",
            "1          Virtual Reality  Housing Expert  \n",
            "2        AveNew Properties  Housing Expert  \n",
            "3     Ganapati Real Estate  Housing Expert  \n",
            "4     Third Eye Consulting  Housing Expert  \n",
            "...                    ...             ...  \n",
            "3963            Goutam Dey           Owner  \n",
            "3964        Alak Kumar Roy           Owner  \n",
            "3965              Sarishma           Owner  \n",
            "3966     MEDIATOR REALTORS           Agent  \n",
            "3967           S Mukherjee           Owner  \n",
            "\n",
            "[3956 rows x 11 columns]\n"
          ]
        }
      ]
    },
    {
      "cell_type": "code",
      "source": [
        "df2.columns"
      ],
      "metadata": {
        "colab": {
          "base_uri": "https://localhost:8080/"
        },
        "id": "dUFtOHdAoLNj",
        "outputId": "a13a19f9-bf0d-4faf-bf8e-951dc4c63129"
      },
      "execution_count": 24,
      "outputs": [
        {
          "output_type": "execute_result",
          "data": {
            "text/plain": [
              "Index(['Flat_Price', 'EMI_Starts', 'BHK', 'HOUSE_TYPE', 'Purpose', 'Location',\n",
              "       'Area_Type', 'Total_Sq.ft', 'Price_per_sq.ft', 'Owner_name',\n",
              "       'Owner_type'],\n",
              "      dtype='object')"
            ]
          },
          "metadata": {},
          "execution_count": 24
        }
      ]
    },
    {
      "cell_type": "code",
      "source": [
        "df2.columns.values[7] = 'Total_Sqft'\n",
        "df2.columns.values[8] = 'Price_per_Sqft'\n",
        "df2.columns"
      ],
      "metadata": {
        "colab": {
          "base_uri": "https://localhost:8080/"
        },
        "id": "Zze4LqzLgb3x",
        "outputId": "8a0d35db-f8bf-482a-e044-edaac117c4f6"
      },
      "execution_count": 56,
      "outputs": [
        {
          "output_type": "execute_result",
          "data": {
            "text/plain": [
              "Index(['Flat_Price', 'EMI_Starts', 'BHK', 'HOUSE_TYPE', 'Purpose', 'Location',\n",
              "       'Area_Type', 'Total_Sqft', 'Price_per_Sqft', 'Owner_name',\n",
              "       'Owner_type'],\n",
              "      dtype='object')"
            ]
          },
          "metadata": {},
          "execution_count": 56
        }
      ]
    },
    {
      "cell_type": "code",
      "source": [
        "df2.BHK.describe()"
      ],
      "metadata": {
        "colab": {
          "base_uri": "https://localhost:8080/"
        },
        "id": "lxsJNHWArJIa",
        "outputId": "edcc8d57-898d-41a5-c093-16f19b6e6cc7"
      },
      "execution_count": 47,
      "outputs": [
        {
          "output_type": "execute_result",
          "data": {
            "text/plain": [
              "count      3956\n",
              "unique       18\n",
              "top       3 BHK\n",
              "freq        705\n",
              "Name: BHK, dtype: object"
            ]
          },
          "metadata": {},
          "execution_count": 47
        }
      ]
    },
    {
      "cell_type": "markdown",
      "source": [
        "just dont know why the describe funtion is not working for 'Total_Sqft' and 'Prices_per_Sqft' for the above code."
      ],
      "metadata": {
        "id": "Z4rrFWTXszxn"
      }
    },
    {
      "cell_type": "markdown",
      "source": [
        "**Building the model from here**"
      ],
      "metadata": {
        "id": "VReMjklwwitu"
      }
    },
    {
      "cell_type": "code",
      "source": [
        "df2.shape"
      ],
      "metadata": {
        "colab": {
          "base_uri": "https://localhost:8080/"
        },
        "id": "jP08NBRFsvZj",
        "outputId": "b3375fd7-d5aa-40e8-a340-d7817a858ba0"
      },
      "execution_count": 55,
      "outputs": [
        {
          "output_type": "execute_result",
          "data": {
            "text/plain": [
              "(3956, 11)"
            ]
          },
          "metadata": {},
          "execution_count": 55
        }
      ]
    },
    {
      "cell_type": "code",
      "source": [
        "df2.head()"
      ],
      "metadata": {
        "colab": {
          "base_uri": "https://localhost:8080/",
          "height": 250
        },
        "id": "VjX-5kTmzZVm",
        "outputId": "3085ac06-311d-4a70-808e-1150437280a6"
      },
      "execution_count": 73,
      "outputs": [
        {
          "output_type": "execute_result",
          "data": {
            "text/plain": [
              "  Flat_Price  EMI_Starts    BHK         HOUSE_TYPE      Purpose  \\\n",
              "0    ₹8.5 Cr  ₹4.22 Lacs  6 BHK  Independent House  for sale in   \n",
              "1    ₹45.0 L    ₹23.83 K  3 BHK  Independent House  for sale in   \n",
              "2   ₹1.35 Cr    ₹67.02 K  3 BHK  Independent House  for sale in   \n",
              "3    ₹60.0 L    ₹31.77 K  5 BHK  Independent House  for sale in   \n",
              "4    ₹52.0 L    ₹27.54 K  4 BHK  Independent House  for sale in   \n",
              "\n",
              "               Location      Area_Type  Total_Sqft  Price_per_Sqft  \\\n",
              "0   Ballygunge, Kolkata  Build Up Area  4200 sq.ft  ₹20.24 K/sq.ft   \n",
              "1  Barrackpore, Kolkata  Build Up Area  1400 sq.ft   ₹3.21 K/sq.ft   \n",
              "2   Santoshpur, Kolkata  Build Up Area  2500 sq.ft   ₹5.40 K/sq.ft   \n",
              "3      Sarsuna, Kolkata  Build Up Area  1100 sq.ft   ₹5.45 K/sq.ft   \n",
              "4  Madhyamgram, Kolkata  Build Up Area   900 sq.ft   ₹5.78 K/sq.ft   \n",
              "\n",
              "             Owner_name      Owner_type  \n",
              "0   Abhijit Chakraborty  Housing Expert  \n",
              "1       Virtual Reality  Housing Expert  \n",
              "2     AveNew Properties  Housing Expert  \n",
              "3  Ganapati Real Estate  Housing Expert  \n",
              "4  Third Eye Consulting  Housing Expert  "
            ],
            "text/html": [
              "\n",
              "  <div id=\"df-6e1d0652-2d35-4111-9e27-9841187085a1\">\n",
              "    <div class=\"colab-df-container\">\n",
              "      <div>\n",
              "<style scoped>\n",
              "    .dataframe tbody tr th:only-of-type {\n",
              "        vertical-align: middle;\n",
              "    }\n",
              "\n",
              "    .dataframe tbody tr th {\n",
              "        vertical-align: top;\n",
              "    }\n",
              "\n",
              "    .dataframe thead th {\n",
              "        text-align: right;\n",
              "    }\n",
              "</style>\n",
              "<table border=\"1\" class=\"dataframe\">\n",
              "  <thead>\n",
              "    <tr style=\"text-align: right;\">\n",
              "      <th></th>\n",
              "      <th>Flat_Price</th>\n",
              "      <th>EMI_Starts</th>\n",
              "      <th>BHK</th>\n",
              "      <th>HOUSE_TYPE</th>\n",
              "      <th>Purpose</th>\n",
              "      <th>Location</th>\n",
              "      <th>Area_Type</th>\n",
              "      <th>Total_Sqft</th>\n",
              "      <th>Price_per_Sqft</th>\n",
              "      <th>Owner_name</th>\n",
              "      <th>Owner_type</th>\n",
              "    </tr>\n",
              "  </thead>\n",
              "  <tbody>\n",
              "    <tr>\n",
              "      <th>0</th>\n",
              "      <td>₹8.5 Cr</td>\n",
              "      <td>₹4.22 Lacs</td>\n",
              "      <td>6 BHK</td>\n",
              "      <td>Independent House</td>\n",
              "      <td>for sale in</td>\n",
              "      <td>Ballygunge, Kolkata</td>\n",
              "      <td>Build Up Area</td>\n",
              "      <td>4200 sq.ft</td>\n",
              "      <td>₹20.24 K/sq.ft</td>\n",
              "      <td>Abhijit Chakraborty</td>\n",
              "      <td>Housing Expert</td>\n",
              "    </tr>\n",
              "    <tr>\n",
              "      <th>1</th>\n",
              "      <td>₹45.0 L</td>\n",
              "      <td>₹23.83 K</td>\n",
              "      <td>3 BHK</td>\n",
              "      <td>Independent House</td>\n",
              "      <td>for sale in</td>\n",
              "      <td>Barrackpore, Kolkata</td>\n",
              "      <td>Build Up Area</td>\n",
              "      <td>1400 sq.ft</td>\n",
              "      <td>₹3.21 K/sq.ft</td>\n",
              "      <td>Virtual Reality</td>\n",
              "      <td>Housing Expert</td>\n",
              "    </tr>\n",
              "    <tr>\n",
              "      <th>2</th>\n",
              "      <td>₹1.35 Cr</td>\n",
              "      <td>₹67.02 K</td>\n",
              "      <td>3 BHK</td>\n",
              "      <td>Independent House</td>\n",
              "      <td>for sale in</td>\n",
              "      <td>Santoshpur, Kolkata</td>\n",
              "      <td>Build Up Area</td>\n",
              "      <td>2500 sq.ft</td>\n",
              "      <td>₹5.40 K/sq.ft</td>\n",
              "      <td>AveNew Properties</td>\n",
              "      <td>Housing Expert</td>\n",
              "    </tr>\n",
              "    <tr>\n",
              "      <th>3</th>\n",
              "      <td>₹60.0 L</td>\n",
              "      <td>₹31.77 K</td>\n",
              "      <td>5 BHK</td>\n",
              "      <td>Independent House</td>\n",
              "      <td>for sale in</td>\n",
              "      <td>Sarsuna, Kolkata</td>\n",
              "      <td>Build Up Area</td>\n",
              "      <td>1100 sq.ft</td>\n",
              "      <td>₹5.45 K/sq.ft</td>\n",
              "      <td>Ganapati Real Estate</td>\n",
              "      <td>Housing Expert</td>\n",
              "    </tr>\n",
              "    <tr>\n",
              "      <th>4</th>\n",
              "      <td>₹52.0 L</td>\n",
              "      <td>₹27.54 K</td>\n",
              "      <td>4 BHK</td>\n",
              "      <td>Independent House</td>\n",
              "      <td>for sale in</td>\n",
              "      <td>Madhyamgram, Kolkata</td>\n",
              "      <td>Build Up Area</td>\n",
              "      <td>900 sq.ft</td>\n",
              "      <td>₹5.78 K/sq.ft</td>\n",
              "      <td>Third Eye Consulting</td>\n",
              "      <td>Housing Expert</td>\n",
              "    </tr>\n",
              "  </tbody>\n",
              "</table>\n",
              "</div>\n",
              "      <button class=\"colab-df-convert\" onclick=\"convertToInteractive('df-6e1d0652-2d35-4111-9e27-9841187085a1')\"\n",
              "              title=\"Convert this dataframe to an interactive table.\"\n",
              "              style=\"display:none;\">\n",
              "        \n",
              "  <svg xmlns=\"http://www.w3.org/2000/svg\" height=\"24px\"viewBox=\"0 0 24 24\"\n",
              "       width=\"24px\">\n",
              "    <path d=\"M0 0h24v24H0V0z\" fill=\"none\"/>\n",
              "    <path d=\"M18.56 5.44l.94 2.06.94-2.06 2.06-.94-2.06-.94-.94-2.06-.94 2.06-2.06.94zm-11 1L8.5 8.5l.94-2.06 2.06-.94-2.06-.94L8.5 2.5l-.94 2.06-2.06.94zm10 10l.94 2.06.94-2.06 2.06-.94-2.06-.94-.94-2.06-.94 2.06-2.06.94z\"/><path d=\"M17.41 7.96l-1.37-1.37c-.4-.4-.92-.59-1.43-.59-.52 0-1.04.2-1.43.59L10.3 9.45l-7.72 7.72c-.78.78-.78 2.05 0 2.83L4 21.41c.39.39.9.59 1.41.59.51 0 1.02-.2 1.41-.59l7.78-7.78 2.81-2.81c.8-.78.8-2.07 0-2.86zM5.41 20L4 18.59l7.72-7.72 1.47 1.35L5.41 20z\"/>\n",
              "  </svg>\n",
              "      </button>\n",
              "      \n",
              "  <style>\n",
              "    .colab-df-container {\n",
              "      display:flex;\n",
              "      flex-wrap:wrap;\n",
              "      gap: 12px;\n",
              "    }\n",
              "\n",
              "    .colab-df-convert {\n",
              "      background-color: #E8F0FE;\n",
              "      border: none;\n",
              "      border-radius: 50%;\n",
              "      cursor: pointer;\n",
              "      display: none;\n",
              "      fill: #1967D2;\n",
              "      height: 32px;\n",
              "      padding: 0 0 0 0;\n",
              "      width: 32px;\n",
              "    }\n",
              "\n",
              "    .colab-df-convert:hover {\n",
              "      background-color: #E2EBFA;\n",
              "      box-shadow: 0px 1px 2px rgba(60, 64, 67, 0.3), 0px 1px 3px 1px rgba(60, 64, 67, 0.15);\n",
              "      fill: #174EA6;\n",
              "    }\n",
              "\n",
              "    [theme=dark] .colab-df-convert {\n",
              "      background-color: #3B4455;\n",
              "      fill: #D2E3FC;\n",
              "    }\n",
              "\n",
              "    [theme=dark] .colab-df-convert:hover {\n",
              "      background-color: #434B5C;\n",
              "      box-shadow: 0px 1px 3px 1px rgba(0, 0, 0, 0.15);\n",
              "      filter: drop-shadow(0px 1px 2px rgba(0, 0, 0, 0.3));\n",
              "      fill: #FFFFFF;\n",
              "    }\n",
              "  </style>\n",
              "\n",
              "      <script>\n",
              "        const buttonEl =\n",
              "          document.querySelector('#df-6e1d0652-2d35-4111-9e27-9841187085a1 button.colab-df-convert');\n",
              "        buttonEl.style.display =\n",
              "          google.colab.kernel.accessAllowed ? 'block' : 'none';\n",
              "\n",
              "        async function convertToInteractive(key) {\n",
              "          const element = document.querySelector('#df-6e1d0652-2d35-4111-9e27-9841187085a1');\n",
              "          const dataTable =\n",
              "            await google.colab.kernel.invokeFunction('convertToInteractive',\n",
              "                                                     [key], {});\n",
              "          if (!dataTable) return;\n",
              "\n",
              "          const docLinkHtml = 'Like what you see? Visit the ' +\n",
              "            '<a target=\"_blank\" href=https://colab.research.google.com/notebooks/data_table.ipynb>data table notebook</a>'\n",
              "            + ' to learn more about interactive tables.';\n",
              "          element.innerHTML = '';\n",
              "          dataTable['output_type'] = 'display_data';\n",
              "          await google.colab.output.renderOutput(dataTable, element);\n",
              "          const docLink = document.createElement('div');\n",
              "          docLink.innerHTML = docLinkHtml;\n",
              "          element.appendChild(docLink);\n",
              "        }\n",
              "      </script>\n",
              "    </div>\n",
              "  </div>\n",
              "  "
            ]
          },
          "metadata": {},
          "execution_count": 73
        }
      ]
    },
    {
      "cell_type": "code",
      "source": [
        "X = df2.drop(['Flat_Price'], axis= 'columns')\n",
        "X.head()"
      ],
      "metadata": {
        "colab": {
          "base_uri": "https://localhost:8080/",
          "height": 206
        },
        "id": "phA8Jno9vCrf",
        "outputId": "a3f0b879-ac0c-4f93-9528-55728ac40717"
      },
      "execution_count": 72,
      "outputs": [
        {
          "output_type": "execute_result",
          "data": {
            "text/plain": [
              "   EMI_Starts    BHK         HOUSE_TYPE      Purpose              Location  \\\n",
              "0  ₹4.22 Lacs  6 BHK  Independent House  for sale in   Ballygunge, Kolkata   \n",
              "1    ₹23.83 K  3 BHK  Independent House  for sale in  Barrackpore, Kolkata   \n",
              "2    ₹67.02 K  3 BHK  Independent House  for sale in   Santoshpur, Kolkata   \n",
              "3    ₹31.77 K  5 BHK  Independent House  for sale in      Sarsuna, Kolkata   \n",
              "4    ₹27.54 K  4 BHK  Independent House  for sale in  Madhyamgram, Kolkata   \n",
              "\n",
              "       Area_Type  Total_Sqft  Price_per_Sqft            Owner_name  \\\n",
              "0  Build Up Area         NaN             NaN   Abhijit Chakraborty   \n",
              "1  Build Up Area         NaN             NaN       Virtual Reality   \n",
              "2  Build Up Area         NaN             NaN     AveNew Properties   \n",
              "3  Build Up Area         NaN             NaN  Ganapati Real Estate   \n",
              "4  Build Up Area         NaN             NaN  Third Eye Consulting   \n",
              "\n",
              "       Owner_type  \n",
              "0  Housing Expert  \n",
              "1  Housing Expert  \n",
              "2  Housing Expert  \n",
              "3  Housing Expert  \n",
              "4  Housing Expert  "
            ],
            "text/html": [
              "\n",
              "  <div id=\"df-35fc63f9-0e5a-4987-a2c7-8b6d6f963274\">\n",
              "    <div class=\"colab-df-container\">\n",
              "      <div>\n",
              "<style scoped>\n",
              "    .dataframe tbody tr th:only-of-type {\n",
              "        vertical-align: middle;\n",
              "    }\n",
              "\n",
              "    .dataframe tbody tr th {\n",
              "        vertical-align: top;\n",
              "    }\n",
              "\n",
              "    .dataframe thead th {\n",
              "        text-align: right;\n",
              "    }\n",
              "</style>\n",
              "<table border=\"1\" class=\"dataframe\">\n",
              "  <thead>\n",
              "    <tr style=\"text-align: right;\">\n",
              "      <th></th>\n",
              "      <th>EMI_Starts</th>\n",
              "      <th>BHK</th>\n",
              "      <th>HOUSE_TYPE</th>\n",
              "      <th>Purpose</th>\n",
              "      <th>Location</th>\n",
              "      <th>Area_Type</th>\n",
              "      <th>Total_Sqft</th>\n",
              "      <th>Price_per_Sqft</th>\n",
              "      <th>Owner_name</th>\n",
              "      <th>Owner_type</th>\n",
              "    </tr>\n",
              "  </thead>\n",
              "  <tbody>\n",
              "    <tr>\n",
              "      <th>0</th>\n",
              "      <td>₹4.22 Lacs</td>\n",
              "      <td>6 BHK</td>\n",
              "      <td>Independent House</td>\n",
              "      <td>for sale in</td>\n",
              "      <td>Ballygunge, Kolkata</td>\n",
              "      <td>Build Up Area</td>\n",
              "      <td>NaN</td>\n",
              "      <td>NaN</td>\n",
              "      <td>Abhijit Chakraborty</td>\n",
              "      <td>Housing Expert</td>\n",
              "    </tr>\n",
              "    <tr>\n",
              "      <th>1</th>\n",
              "      <td>₹23.83 K</td>\n",
              "      <td>3 BHK</td>\n",
              "      <td>Independent House</td>\n",
              "      <td>for sale in</td>\n",
              "      <td>Barrackpore, Kolkata</td>\n",
              "      <td>Build Up Area</td>\n",
              "      <td>NaN</td>\n",
              "      <td>NaN</td>\n",
              "      <td>Virtual Reality</td>\n",
              "      <td>Housing Expert</td>\n",
              "    </tr>\n",
              "    <tr>\n",
              "      <th>2</th>\n",
              "      <td>₹67.02 K</td>\n",
              "      <td>3 BHK</td>\n",
              "      <td>Independent House</td>\n",
              "      <td>for sale in</td>\n",
              "      <td>Santoshpur, Kolkata</td>\n",
              "      <td>Build Up Area</td>\n",
              "      <td>NaN</td>\n",
              "      <td>NaN</td>\n",
              "      <td>AveNew Properties</td>\n",
              "      <td>Housing Expert</td>\n",
              "    </tr>\n",
              "    <tr>\n",
              "      <th>3</th>\n",
              "      <td>₹31.77 K</td>\n",
              "      <td>5 BHK</td>\n",
              "      <td>Independent House</td>\n",
              "      <td>for sale in</td>\n",
              "      <td>Sarsuna, Kolkata</td>\n",
              "      <td>Build Up Area</td>\n",
              "      <td>NaN</td>\n",
              "      <td>NaN</td>\n",
              "      <td>Ganapati Real Estate</td>\n",
              "      <td>Housing Expert</td>\n",
              "    </tr>\n",
              "    <tr>\n",
              "      <th>4</th>\n",
              "      <td>₹27.54 K</td>\n",
              "      <td>4 BHK</td>\n",
              "      <td>Independent House</td>\n",
              "      <td>for sale in</td>\n",
              "      <td>Madhyamgram, Kolkata</td>\n",
              "      <td>Build Up Area</td>\n",
              "      <td>NaN</td>\n",
              "      <td>NaN</td>\n",
              "      <td>Third Eye Consulting</td>\n",
              "      <td>Housing Expert</td>\n",
              "    </tr>\n",
              "  </tbody>\n",
              "</table>\n",
              "</div>\n",
              "      <button class=\"colab-df-convert\" onclick=\"convertToInteractive('df-35fc63f9-0e5a-4987-a2c7-8b6d6f963274')\"\n",
              "              title=\"Convert this dataframe to an interactive table.\"\n",
              "              style=\"display:none;\">\n",
              "        \n",
              "  <svg xmlns=\"http://www.w3.org/2000/svg\" height=\"24px\"viewBox=\"0 0 24 24\"\n",
              "       width=\"24px\">\n",
              "    <path d=\"M0 0h24v24H0V0z\" fill=\"none\"/>\n",
              "    <path d=\"M18.56 5.44l.94 2.06.94-2.06 2.06-.94-2.06-.94-.94-2.06-.94 2.06-2.06.94zm-11 1L8.5 8.5l.94-2.06 2.06-.94-2.06-.94L8.5 2.5l-.94 2.06-2.06.94zm10 10l.94 2.06.94-2.06 2.06-.94-2.06-.94-.94-2.06-.94 2.06-2.06.94z\"/><path d=\"M17.41 7.96l-1.37-1.37c-.4-.4-.92-.59-1.43-.59-.52 0-1.04.2-1.43.59L10.3 9.45l-7.72 7.72c-.78.78-.78 2.05 0 2.83L4 21.41c.39.39.9.59 1.41.59.51 0 1.02-.2 1.41-.59l7.78-7.78 2.81-2.81c.8-.78.8-2.07 0-2.86zM5.41 20L4 18.59l7.72-7.72 1.47 1.35L5.41 20z\"/>\n",
              "  </svg>\n",
              "      </button>\n",
              "      \n",
              "  <style>\n",
              "    .colab-df-container {\n",
              "      display:flex;\n",
              "      flex-wrap:wrap;\n",
              "      gap: 12px;\n",
              "    }\n",
              "\n",
              "    .colab-df-convert {\n",
              "      background-color: #E8F0FE;\n",
              "      border: none;\n",
              "      border-radius: 50%;\n",
              "      cursor: pointer;\n",
              "      display: none;\n",
              "      fill: #1967D2;\n",
              "      height: 32px;\n",
              "      padding: 0 0 0 0;\n",
              "      width: 32px;\n",
              "    }\n",
              "\n",
              "    .colab-df-convert:hover {\n",
              "      background-color: #E2EBFA;\n",
              "      box-shadow: 0px 1px 2px rgba(60, 64, 67, 0.3), 0px 1px 3px 1px rgba(60, 64, 67, 0.15);\n",
              "      fill: #174EA6;\n",
              "    }\n",
              "\n",
              "    [theme=dark] .colab-df-convert {\n",
              "      background-color: #3B4455;\n",
              "      fill: #D2E3FC;\n",
              "    }\n",
              "\n",
              "    [theme=dark] .colab-df-convert:hover {\n",
              "      background-color: #434B5C;\n",
              "      box-shadow: 0px 1px 3px 1px rgba(0, 0, 0, 0.15);\n",
              "      filter: drop-shadow(0px 1px 2px rgba(0, 0, 0, 0.3));\n",
              "      fill: #FFFFFF;\n",
              "    }\n",
              "  </style>\n",
              "\n",
              "      <script>\n",
              "        const buttonEl =\n",
              "          document.querySelector('#df-35fc63f9-0e5a-4987-a2c7-8b6d6f963274 button.colab-df-convert');\n",
              "        buttonEl.style.display =\n",
              "          google.colab.kernel.accessAllowed ? 'block' : 'none';\n",
              "\n",
              "        async function convertToInteractive(key) {\n",
              "          const element = document.querySelector('#df-35fc63f9-0e5a-4987-a2c7-8b6d6f963274');\n",
              "          const dataTable =\n",
              "            await google.colab.kernel.invokeFunction('convertToInteractive',\n",
              "                                                     [key], {});\n",
              "          if (!dataTable) return;\n",
              "\n",
              "          const docLinkHtml = 'Like what you see? Visit the ' +\n",
              "            '<a target=\"_blank\" href=https://colab.research.google.com/notebooks/data_table.ipynb>data table notebook</a>'\n",
              "            + ' to learn more about interactive tables.';\n",
              "          element.innerHTML = '';\n",
              "          dataTable['output_type'] = 'display_data';\n",
              "          await google.colab.output.renderOutput(dataTable, element);\n",
              "          const docLink = document.createElement('div');\n",
              "          docLink.innerHTML = docLinkHtml;\n",
              "          element.appendChild(docLink);\n",
              "        }\n",
              "      </script>\n",
              "    </div>\n",
              "  </div>\n",
              "  "
            ]
          },
          "metadata": {},
          "execution_count": 72
        }
      ]
    },
    {
      "cell_type": "code",
      "source": [
        "Y = df2.Flat_Price\n",
        "Y.head()"
      ],
      "metadata": {
        "colab": {
          "base_uri": "https://localhost:8080/"
        },
        "id": "-UVAtGEUwPRe",
        "outputId": "ed16d821-436e-45e1-a7a9-7c5a39237df3"
      },
      "execution_count": 61,
      "outputs": [
        {
          "output_type": "execute_result",
          "data": {
            "text/plain": [
              "0     ₹8.5 Cr\n",
              "1     ₹45.0 L\n",
              "2    ₹1.35 Cr\n",
              "3     ₹60.0 L\n",
              "4     ₹52.0 L\n",
              "Name: Flat_Price, dtype: object"
            ]
          },
          "metadata": {},
          "execution_count": 61
        }
      ]
    },
    {
      "cell_type": "code",
      "source": [
        "len(Y)"
      ],
      "metadata": {
        "colab": {
          "base_uri": "https://localhost:8080/"
        },
        "id": "cpL_vsjlv3xE",
        "outputId": "2c126789-37ca-4af4-9876-b89e863dbd64"
      },
      "execution_count": 71,
      "outputs": [
        {
          "output_type": "execute_result",
          "data": {
            "text/plain": [
              "3956"
            ]
          },
          "metadata": {},
          "execution_count": 71
        }
      ]
    },
    {
      "cell_type": "code",
      "source": [
        "from sklearn.model_selection import train_test_split\n",
        "X_train, X_test, Y_train, Y_test = train_test_split(X,Y,test_size=0.2,random_state=10)"
      ],
      "metadata": {
        "id": "u-u_IkhXyP72"
      },
      "execution_count": 75,
      "outputs": []
    }
  ]
}