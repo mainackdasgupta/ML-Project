{
  "nbformat": 4,
  "nbformat_minor": 0,
  "metadata": {
    "colab": {
      "name": "Kolkata Home Price Prediction.ipynb",
      "provenance": [],
      "authorship_tag": "ABX9TyMWHNi4FP6aqefKZ1azkoEx",
      "include_colab_link": true
    },
    "kernelspec": {
      "name": "python3",
      "display_name": "Python 3"
    },
    "language_info": {
      "name": "python"
    }
  },
  "cells": [
    {
      "cell_type": "markdown",
      "metadata": {
        "id": "view-in-github",
        "colab_type": "text"
      },
      "source": [
        "<a href=\"https://colab.research.google.com/github/mainackdasgupta/ML-Basics/blob/main/Kolkata_Home_Price_Prediction.ipynb\" target=\"_parent\"><img src=\"https://colab.research.google.com/assets/colab-badge.svg\" alt=\"Open In Colab\"/></a>"
      ]
    },
    {
      "cell_type": "markdown",
      "source": [
        "Data set link : https://www.kaggle.com/datasets/kuntalmaity/house-price "
      ],
      "metadata": {
        "id": "hMnXvVMK2hOU"
      }
    },
    {
      "cell_type": "code",
      "execution_count": 3,
      "metadata": {
        "colab": {
          "resources": {
            "http://localhost:8080/nbextensions/google.colab/files.js": {
              "data": "Ly8gQ29weXJpZ2h0IDIwMTcgR29vZ2xlIExMQwovLwovLyBMaWNlbnNlZCB1bmRlciB0aGUgQXBhY2hlIExpY2Vuc2UsIFZlcnNpb24gMi4wICh0aGUgIkxpY2Vuc2UiKTsKLy8geW91IG1heSBub3QgdXNlIHRoaXMgZmlsZSBleGNlcHQgaW4gY29tcGxpYW5jZSB3aXRoIHRoZSBMaWNlbnNlLgovLyBZb3UgbWF5IG9idGFpbiBhIGNvcHkgb2YgdGhlIExpY2Vuc2UgYXQKLy8KLy8gICAgICBodHRwOi8vd3d3LmFwYWNoZS5vcmcvbGljZW5zZXMvTElDRU5TRS0yLjAKLy8KLy8gVW5sZXNzIHJlcXVpcmVkIGJ5IGFwcGxpY2FibGUgbGF3IG9yIGFncmVlZCB0byBpbiB3cml0aW5nLCBzb2Z0d2FyZQovLyBkaXN0cmlidXRlZCB1bmRlciB0aGUgTGljZW5zZSBpcyBkaXN0cmlidXRlZCBvbiBhbiAiQVMgSVMiIEJBU0lTLAovLyBXSVRIT1VUIFdBUlJBTlRJRVMgT1IgQ09ORElUSU9OUyBPRiBBTlkgS0lORCwgZWl0aGVyIGV4cHJlc3Mgb3IgaW1wbGllZC4KLy8gU2VlIHRoZSBMaWNlbnNlIGZvciB0aGUgc3BlY2lmaWMgbGFuZ3VhZ2UgZ292ZXJuaW5nIHBlcm1pc3Npb25zIGFuZAovLyBsaW1pdGF0aW9ucyB1bmRlciB0aGUgTGljZW5zZS4KCi8qKgogKiBAZmlsZW92ZXJ2aWV3IEhlbHBlcnMgZm9yIGdvb2dsZS5jb2xhYiBQeXRob24gbW9kdWxlLgogKi8KKGZ1bmN0aW9uKHNjb3BlKSB7CmZ1bmN0aW9uIHNwYW4odGV4dCwgc3R5bGVBdHRyaWJ1dGVzID0ge30pIHsKICBjb25zdCBlbGVtZW50ID0gZG9jdW1lbnQuY3JlYXRlRWxlbWVudCgnc3BhbicpOwogIGVsZW1lbnQudGV4dENvbnRlbnQgPSB0ZXh0OwogIGZvciAoY29uc3Qga2V5IG9mIE9iamVjdC5rZXlzKHN0eWxlQXR0cmlidXRlcykpIHsKICAgIGVsZW1lbnQuc3R5bGVba2V5XSA9IHN0eWxlQXR0cmlidXRlc1trZXldOwogIH0KICByZXR1cm4gZWxlbWVudDsKfQoKLy8gTWF4IG51bWJlciBvZiBieXRlcyB3aGljaCB3aWxsIGJlIHVwbG9hZGVkIGF0IGEgdGltZS4KY29uc3QgTUFYX1BBWUxPQURfU0laRSA9IDEwMCAqIDEwMjQ7CgpmdW5jdGlvbiBfdXBsb2FkRmlsZXMoaW5wdXRJZCwgb3V0cHV0SWQpIHsKICBjb25zdCBzdGVwcyA9IHVwbG9hZEZpbGVzU3RlcChpbnB1dElkLCBvdXRwdXRJZCk7CiAgY29uc3Qgb3V0cHV0RWxlbWVudCA9IGRvY3VtZW50LmdldEVsZW1lbnRCeUlkKG91dHB1dElkKTsKICAvLyBDYWNoZSBzdGVwcyBvbiB0aGUgb3V0cHV0RWxlbWVudCB0byBtYWtlIGl0IGF2YWlsYWJsZSBmb3IgdGhlIG5leHQgY2FsbAogIC8vIHRvIHVwbG9hZEZpbGVzQ29udGludWUgZnJvbSBQeXRob24uCiAgb3V0cHV0RWxlbWVudC5zdGVwcyA9IHN0ZXBzOwoKICByZXR1cm4gX3VwbG9hZEZpbGVzQ29udGludWUob3V0cHV0SWQpOwp9CgovLyBUaGlzIGlzIHJvdWdobHkgYW4gYXN5bmMgZ2VuZXJhdG9yIChub3Qgc3VwcG9ydGVkIGluIHRoZSBicm93c2VyIHlldCksCi8vIHdoZXJlIHRoZXJlIGFyZSBtdWx0aXBsZSBhc3luY2hyb25vdXMgc3RlcHMgYW5kIHRoZSBQeXRob24gc2lkZSBpcyBnb2luZwovLyB0byBwb2xsIGZvciBjb21wbGV0aW9uIG9mIGVhY2ggc3RlcC4KLy8gVGhpcyB1c2VzIGEgUHJvbWlzZSB0byBibG9jayB0aGUgcHl0aG9uIHNpZGUgb24gY29tcGxldGlvbiBvZiBlYWNoIHN0ZXAsCi8vIHRoZW4gcGFzc2VzIHRoZSByZXN1bHQgb2YgdGhlIHByZXZpb3VzIHN0ZXAgYXMgdGhlIGlucHV0IHRvIHRoZSBuZXh0IHN0ZXAuCmZ1bmN0aW9uIF91cGxvYWRGaWxlc0NvbnRpbnVlKG91dHB1dElkKSB7CiAgY29uc3Qgb3V0cHV0RWxlbWVudCA9IGRvY3VtZW50LmdldEVsZW1lbnRCeUlkKG91dHB1dElkKTsKICBjb25zdCBzdGVwcyA9IG91dHB1dEVsZW1lbnQuc3RlcHM7CgogIGNvbnN0IG5leHQgPSBzdGVwcy5uZXh0KG91dHB1dEVsZW1lbnQubGFzdFByb21pc2VWYWx1ZSk7CiAgcmV0dXJuIFByb21pc2UucmVzb2x2ZShuZXh0LnZhbHVlLnByb21pc2UpLnRoZW4oKHZhbHVlKSA9PiB7CiAgICAvLyBDYWNoZSB0aGUgbGFzdCBwcm9taXNlIHZhbHVlIHRvIG1ha2UgaXQgYXZhaWxhYmxlIHRvIHRoZSBuZXh0CiAgICAvLyBzdGVwIG9mIHRoZSBnZW5lcmF0b3IuCiAgICBvdXRwdXRFbGVtZW50Lmxhc3RQcm9taXNlVmFsdWUgPSB2YWx1ZTsKICAgIHJldHVybiBuZXh0LnZhbHVlLnJlc3BvbnNlOwogIH0pOwp9CgovKioKICogR2VuZXJhdG9yIGZ1bmN0aW9uIHdoaWNoIGlzIGNhbGxlZCBiZXR3ZWVuIGVhY2ggYXN5bmMgc3RlcCBvZiB0aGUgdXBsb2FkCiAqIHByb2Nlc3MuCiAqIEBwYXJhbSB7c3RyaW5nfSBpbnB1dElkIEVsZW1lbnQgSUQgb2YgdGhlIGlucHV0IGZpbGUgcGlja2VyIGVsZW1lbnQuCiAqIEBwYXJhbSB7c3RyaW5nfSBvdXRwdXRJZCBFbGVtZW50IElEIG9mIHRoZSBvdXRwdXQgZGlzcGxheS4KICogQHJldHVybiB7IUl0ZXJhYmxlPCFPYmplY3Q+fSBJdGVyYWJsZSBvZiBuZXh0IHN0ZXBzLgogKi8KZnVuY3Rpb24qIHVwbG9hZEZpbGVzU3RlcChpbnB1dElkLCBvdXRwdXRJZCkgewogIGNvbnN0IGlucHV0RWxlbWVudCA9IGRvY3VtZW50LmdldEVsZW1lbnRCeUlkKGlucHV0SWQpOwogIGlucHV0RWxlbWVudC5kaXNhYmxlZCA9IGZhbHNlOwoKICBjb25zdCBvdXRwdXRFbGVtZW50ID0gZG9jdW1lbnQuZ2V0RWxlbWVudEJ5SWQob3V0cHV0SWQpOwogIG91dHB1dEVsZW1lbnQuaW5uZXJIVE1MID0gJyc7CgogIGNvbnN0IHBpY2tlZFByb21pc2UgPSBuZXcgUHJvbWlzZSgocmVzb2x2ZSkgPT4gewogICAgaW5wdXRFbGVtZW50LmFkZEV2ZW50TGlzdGVuZXIoJ2NoYW5nZScsIChlKSA9PiB7CiAgICAgIHJlc29sdmUoZS50YXJnZXQuZmlsZXMpOwogICAgfSk7CiAgfSk7CgogIGNvbnN0IGNhbmNlbCA9IGRvY3VtZW50LmNyZWF0ZUVsZW1lbnQoJ2J1dHRvbicpOwogIGlucHV0RWxlbWVudC5wYXJlbnRFbGVtZW50LmFwcGVuZENoaWxkKGNhbmNlbCk7CiAgY2FuY2VsLnRleHRDb250ZW50ID0gJ0NhbmNlbCB1cGxvYWQnOwogIGNvbnN0IGNhbmNlbFByb21pc2UgPSBuZXcgUHJvbWlzZSgocmVzb2x2ZSkgPT4gewogICAgY2FuY2VsLm9uY2xpY2sgPSAoKSA9PiB7CiAgICAgIHJlc29sdmUobnVsbCk7CiAgICB9OwogIH0pOwoKICAvLyBXYWl0IGZvciB0aGUgdXNlciB0byBwaWNrIHRoZSBmaWxlcy4KICBjb25zdCBmaWxlcyA9IHlpZWxkIHsKICAgIHByb21pc2U6IFByb21pc2UucmFjZShbcGlja2VkUHJvbWlzZSwgY2FuY2VsUHJvbWlzZV0pLAogICAgcmVzcG9uc2U6IHsKICAgICAgYWN0aW9uOiAnc3RhcnRpbmcnLAogICAgfQogIH07CgogIGNhbmNlbC5yZW1vdmUoKTsKCiAgLy8gRGlzYWJsZSB0aGUgaW5wdXQgZWxlbWVudCBzaW5jZSBmdXJ0aGVyIHBpY2tzIGFyZSBub3QgYWxsb3dlZC4KICBpbnB1dEVsZW1lbnQuZGlzYWJsZWQgPSB0cnVlOwoKICBpZiAoIWZpbGVzKSB7CiAgICByZXR1cm4gewogICAgICByZXNwb25zZTogewogICAgICAgIGFjdGlvbjogJ2NvbXBsZXRlJywKICAgICAgfQogICAgfTsKICB9CgogIGZvciAoY29uc3QgZmlsZSBvZiBmaWxlcykgewogICAgY29uc3QgbGkgPSBkb2N1bWVudC5jcmVhdGVFbGVtZW50KCdsaScpOwogICAgbGkuYXBwZW5kKHNwYW4oZmlsZS5uYW1lLCB7Zm9udFdlaWdodDogJ2JvbGQnfSkpOwogICAgbGkuYXBwZW5kKHNwYW4oCiAgICAgICAgYCgke2ZpbGUudHlwZSB8fCAnbi9hJ30pIC0gJHtmaWxlLnNpemV9IGJ5dGVzLCBgICsKICAgICAgICBgbGFzdCBtb2RpZmllZDogJHsKICAgICAgICAgICAgZmlsZS5sYXN0TW9kaWZpZWREYXRlID8gZmlsZS5sYXN0TW9kaWZpZWREYXRlLnRvTG9jYWxlRGF0ZVN0cmluZygpIDoKICAgICAgICAgICAgICAgICAgICAgICAgICAgICAgICAgICAgJ24vYSd9IC0gYCkpOwogICAgY29uc3QgcGVyY2VudCA9IHNwYW4oJzAlIGRvbmUnKTsKICAgIGxpLmFwcGVuZENoaWxkKHBlcmNlbnQpOwoKICAgIG91dHB1dEVsZW1lbnQuYXBwZW5kQ2hpbGQobGkpOwoKICAgIGNvbnN0IGZpbGVEYXRhUHJvbWlzZSA9IG5ldyBQcm9taXNlKChyZXNvbHZlKSA9PiB7CiAgICAgIGNvbnN0IHJlYWRlciA9IG5ldyBGaWxlUmVhZGVyKCk7CiAgICAgIHJlYWRlci5vbmxvYWQgPSAoZSkgPT4gewogICAgICAgIHJlc29sdmUoZS50YXJnZXQucmVzdWx0KTsKICAgICAgfTsKICAgICAgcmVhZGVyLnJlYWRBc0FycmF5QnVmZmVyKGZpbGUpOwogICAgfSk7CiAgICAvLyBXYWl0IGZvciB0aGUgZGF0YSB0byBiZSByZWFkeS4KICAgIGxldCBmaWxlRGF0YSA9IHlpZWxkIHsKICAgICAgcHJvbWlzZTogZmlsZURhdGFQcm9taXNlLAogICAgICByZXNwb25zZTogewogICAgICAgIGFjdGlvbjogJ2NvbnRpbnVlJywKICAgICAgfQogICAgfTsKCiAgICAvLyBVc2UgYSBjaHVua2VkIHNlbmRpbmcgdG8gYXZvaWQgbWVzc2FnZSBzaXplIGxpbWl0cy4gU2VlIGIvNjIxMTU2NjAuCiAgICBsZXQgcG9zaXRpb24gPSAwOwogICAgZG8gewogICAgICBjb25zdCBsZW5ndGggPSBNYXRoLm1pbihmaWxlRGF0YS5ieXRlTGVuZ3RoIC0gcG9zaXRpb24sIE1BWF9QQVlMT0FEX1NJWkUpOwogICAgICBjb25zdCBjaHVuayA9IG5ldyBVaW50OEFycmF5KGZpbGVEYXRhLCBwb3NpdGlvbiwgbGVuZ3RoKTsKICAgICAgcG9zaXRpb24gKz0gbGVuZ3RoOwoKICAgICAgY29uc3QgYmFzZTY0ID0gYnRvYShTdHJpbmcuZnJvbUNoYXJDb2RlLmFwcGx5KG51bGwsIGNodW5rKSk7CiAgICAgIHlpZWxkIHsKICAgICAgICByZXNwb25zZTogewogICAgICAgICAgYWN0aW9uOiAnYXBwZW5kJywKICAgICAgICAgIGZpbGU6IGZpbGUubmFtZSwKICAgICAgICAgIGRhdGE6IGJhc2U2NCwKICAgICAgICB9LAogICAgICB9OwoKICAgICAgbGV0IHBlcmNlbnREb25lID0gZmlsZURhdGEuYnl0ZUxlbmd0aCA9PT0gMCA/CiAgICAgICAgICAxMDAgOgogICAgICAgICAgTWF0aC5yb3VuZCgocG9zaXRpb24gLyBmaWxlRGF0YS5ieXRlTGVuZ3RoKSAqIDEwMCk7CiAgICAgIHBlcmNlbnQudGV4dENvbnRlbnQgPSBgJHtwZXJjZW50RG9uZX0lIGRvbmVgOwoKICAgIH0gd2hpbGUgKHBvc2l0aW9uIDwgZmlsZURhdGEuYnl0ZUxlbmd0aCk7CiAgfQoKICAvLyBBbGwgZG9uZS4KICB5aWVsZCB7CiAgICByZXNwb25zZTogewogICAgICBhY3Rpb246ICdjb21wbGV0ZScsCiAgICB9CiAgfTsKfQoKc2NvcGUuZ29vZ2xlID0gc2NvcGUuZ29vZ2xlIHx8IHt9OwpzY29wZS5nb29nbGUuY29sYWIgPSBzY29wZS5nb29nbGUuY29sYWIgfHwge307CnNjb3BlLmdvb2dsZS5jb2xhYi5fZmlsZXMgPSB7CiAgX3VwbG9hZEZpbGVzLAogIF91cGxvYWRGaWxlc0NvbnRpbnVlLAp9Owp9KShzZWxmKTsK",
              "ok": true,
              "headers": [
                [
                  "content-type",
                  "application/javascript"
                ]
              ],
              "status": 200,
              "status_text": ""
            }
          },
          "base_uri": "https://localhost:8080/",
          "height": 73
        },
        "id": "TuO9Rrq9MFZQ",
        "outputId": "b382af71-9d4c-425f-f0b1-1e5c1cc8b90c"
      },
      "outputs": [
        {
          "output_type": "display_data",
          "data": {
            "text/plain": [
              "<IPython.core.display.HTML object>"
            ],
            "text/html": [
              "\n",
              "     <input type=\"file\" id=\"files-38ae58c7-6c2c-46d5-b350-e6371843953b\" name=\"files[]\" multiple disabled\n",
              "        style=\"border:none\" />\n",
              "     <output id=\"result-38ae58c7-6c2c-46d5-b350-e6371843953b\">\n",
              "      Upload widget is only available when the cell has been executed in the\n",
              "      current browser session. Please rerun this cell to enable.\n",
              "      </output>\n",
              "      <script src=\"/nbextensions/google.colab/files.js\"></script> "
            ]
          },
          "metadata": {}
        },
        {
          "output_type": "stream",
          "name": "stdout",
          "text": [
            "Saving House_Price.csv to House_Price.csv\n"
          ]
        }
      ],
      "source": [
        "import pandas as pd\n",
        "import numpy as np\n",
        "from matplotlib import pyplot as plt\n",
        "%matplotlib inline\n",
        "import matplotlib \n",
        "matplotlib.rcParams[\"figure.figsize\"] = (20,10)\n",
        "from google.colab import files\n",
        "import io\n",
        "uploaded = files.upload()"
      ]
    },
    {
      "cell_type": "code",
      "source": [
        "df = pd.read_csv('House_Price.csv')\n",
        "print(df)"
      ],
      "metadata": {
        "colab": {
          "base_uri": "https://localhost:8080/"
        },
        "id": "fo3rzX53Mr2t",
        "outputId": "11d5808d-5bfb-4913-9f46-a392cf6b48f2"
      },
      "execution_count": 4,
      "outputs": [
        {
          "output_type": "stream",
          "name": "stdout",
          "text": [
            "     Flat_Price  EMI_Starts    BHK  css-11nfaq3 Unnamed: 4         HOUSE_TYPE  \\\n",
            "0       ₹8.5 Cr  ₹4.22 Lacs  6 BHK          6.0        BHK  Independent House   \n",
            "1       ₹45.0 L    ₹23.83 K  3 BHK          3.0        BHK  Independent House   \n",
            "2      ₹1.35 Cr    ₹67.02 K  3 BHK          3.0        BHK  Independent House   \n",
            "3       ₹60.0 L    ₹31.77 K  5 BHK          5.0        BHK  Independent House   \n",
            "4       ₹52.0 L    ₹27.54 K  4 BHK          4.0        BHK  Independent House   \n",
            "...         ...         ...    ...          ...        ...                ...   \n",
            "3963    ₹13.0 L     ₹6.88 K  2 BHK          2.0        BHK  Independent House   \n",
            "3964    ₹1.5 Cr    ₹74.47 K  8 BHK          8.0        BHK  Independent House   \n",
            "3965    ₹50.0 L    ₹26.48 K  5 BHK          5.0        BHK  Independent House   \n",
            "3966    ₹1.1 Cr    ₹54.61 K  5 BHK          5.0        BHK  Independent House   \n",
            "3967    ₹30.0 L    ₹15.89 K  2 BHK          2.0        BHK  Independent House   \n",
            "\n",
            "       Unnamed: 6 Unnamed: 7      Purpose                  Location  \\\n",
            "0     Independent      House  for sale in       Ballygunge, Kolkata   \n",
            "1     Independent      House  for sale in      Barrackpore, Kolkata   \n",
            "2     Independent      House  for sale in       Santoshpur, Kolkata   \n",
            "3     Independent      House  for sale in          Sarsuna, Kolkata   \n",
            "4     Independent      House  for sale in      Madhyamgram, Kolkata   \n",
            "...           ...        ...          ...                       ...   \n",
            "3963  Independent      House  for sale in    Picnic Garden, Kolkata   \n",
            "3964  Independent      House  for sale in  Rajpur Sonarpur, Kolkata   \n",
            "3965  Independent      House  for sale in           Amtala, Kolkata   \n",
            "3966  Independent      House  for sale in       Tollygunge, Kolkata   \n",
            "3967  Independent      House  for sale in          Naihati, Kolkata   \n",
            "\n",
            "          Area_Type Total_Sq.ft Price_per_sq.ft            Owner_name  \\\n",
            "0     Build Up Area  4200 sq.ft  ₹20.24 K/sq.ft   Abhijit Chakraborty   \n",
            "1     Build Up Area  1400 sq.ft   ₹3.21 K/sq.ft       Virtual Reality   \n",
            "2     Build Up Area  2500 sq.ft   ₹5.40 K/sq.ft     AveNew Properties   \n",
            "3     Build Up Area  1100 sq.ft   ₹5.45 K/sq.ft  Ganapati Real Estate   \n",
            "4     Build Up Area   900 sq.ft   ₹5.78 K/sq.ft  Third Eye Consulting   \n",
            "...             ...         ...             ...                   ...   \n",
            "3963  Build Up Area  1500 sq.ft      ₹866/sq.ft            Goutam Dey   \n",
            "3964  Build Up Area  2560 sq.ft   ₹5.86 K/sq.ft        Alak Kumar Roy   \n",
            "3965  Build Up Area  1900 sq.ft   ₹2.63 K/sq.ft              Sarishma   \n",
            "3966  Build Up Area  2600 sq.ft   ₹4.23 K/sq.ft     MEDIATOR REALTORS   \n",
            "3967  Build Up Area   950 sq.ft   ₹3.16 K/sq.ft           S Mukherjee   \n",
            "\n",
            "          Owner_type  \n",
            "0     Housing Expert  \n",
            "1     Housing Expert  \n",
            "2     Housing Expert  \n",
            "3     Housing Expert  \n",
            "4     Housing Expert  \n",
            "...              ...  \n",
            "3963           Owner  \n",
            "3964           Owner  \n",
            "3965           Owner  \n",
            "3966           Agent  \n",
            "3967           Owner  \n",
            "\n",
            "[3968 rows x 15 columns]\n"
          ]
        }
      ]
    },
    {
      "cell_type": "code",
      "source": [
        "df.isnull().sum()"
      ],
      "metadata": {
        "colab": {
          "base_uri": "https://localhost:8080/"
        },
        "id": "-83TYtHKPOYs",
        "outputId": "c70087ec-607b-4bdc-8b8a-0af97e8f6055"
      },
      "execution_count": 5,
      "outputs": [
        {
          "output_type": "execute_result",
          "data": {
            "text/plain": [
              "Flat_Price          0\n",
              "EMI_Starts          0\n",
              "BHK                 0\n",
              "css-11nfaq3         2\n",
              "Unnamed: 4          2\n",
              "HOUSE_TYPE          0\n",
              "Unnamed: 6          2\n",
              "Unnamed: 7          2\n",
              "Purpose             2\n",
              "Location            2\n",
              "Area_Type           0\n",
              "Total_Sq.ft         0\n",
              "Price_per_sq.ft     0\n",
              "Owner_name         10\n",
              "Owner_type          0\n",
              "dtype: int64"
            ]
          },
          "metadata": {},
          "execution_count": 5
        }
      ]
    },
    {
      "cell_type": "code",
      "source": [
        "df.shape"
      ],
      "metadata": {
        "colab": {
          "base_uri": "https://localhost:8080/"
        },
        "id": "p7ySNY8FVgy8",
        "outputId": "853848a2-3825-4e5d-a520-20b1ab90fa86"
      },
      "execution_count": 6,
      "outputs": [
        {
          "output_type": "execute_result",
          "data": {
            "text/plain": [
              "(3968, 15)"
            ]
          },
          "metadata": {},
          "execution_count": 6
        }
      ]
    },
    {
      "cell_type": "code",
      "source": [
        "df1 = df.dropna()\n",
        "df1.isnull().sum()"
      ],
      "metadata": {
        "colab": {
          "base_uri": "https://localhost:8080/"
        },
        "id": "ue4FhgGlUnOG",
        "outputId": "5ae8718e-fc8a-411d-bace-52cb9af984c2"
      },
      "execution_count": 7,
      "outputs": [
        {
          "output_type": "execute_result",
          "data": {
            "text/plain": [
              "Flat_Price         0\n",
              "EMI_Starts         0\n",
              "BHK                0\n",
              "css-11nfaq3        0\n",
              "Unnamed: 4         0\n",
              "HOUSE_TYPE         0\n",
              "Unnamed: 6         0\n",
              "Unnamed: 7         0\n",
              "Purpose            0\n",
              "Location           0\n",
              "Area_Type          0\n",
              "Total_Sq.ft        0\n",
              "Price_per_sq.ft    0\n",
              "Owner_name         0\n",
              "Owner_type         0\n",
              "dtype: int64"
            ]
          },
          "metadata": {},
          "execution_count": 7
        }
      ]
    },
    {
      "cell_type": "code",
      "source": [
        "df1.shape"
      ],
      "metadata": {
        "colab": {
          "base_uri": "https://localhost:8080/"
        },
        "id": "cg8eUB_MVS0A",
        "outputId": "bb2447fe-c49f-4e7a-84cd-2390e5d4408e"
      },
      "execution_count": 13,
      "outputs": [
        {
          "output_type": "execute_result",
          "data": {
            "text/plain": [
              "(3956, 15)"
            ]
          },
          "metadata": {},
          "execution_count": 13
        }
      ]
    },
    {
      "cell_type": "code",
      "source": [
        "print(df1)"
      ],
      "metadata": {
        "colab": {
          "base_uri": "https://localhost:8080/"
        },
        "id": "nNkmcg5zV4cT",
        "outputId": "f70ebd51-61e0-4b5c-b3e1-6f02db76ebb9"
      },
      "execution_count": 8,
      "outputs": [
        {
          "output_type": "stream",
          "name": "stdout",
          "text": [
            "     Flat_Price  EMI_Starts    BHK  css-11nfaq3 Unnamed: 4         HOUSE_TYPE  \\\n",
            "0       ₹8.5 Cr  ₹4.22 Lacs  6 BHK          6.0        BHK  Independent House   \n",
            "1       ₹45.0 L    ₹23.83 K  3 BHK          3.0        BHK  Independent House   \n",
            "2      ₹1.35 Cr    ₹67.02 K  3 BHK          3.0        BHK  Independent House   \n",
            "3       ₹60.0 L    ₹31.77 K  5 BHK          5.0        BHK  Independent House   \n",
            "4       ₹52.0 L    ₹27.54 K  4 BHK          4.0        BHK  Independent House   \n",
            "...         ...         ...    ...          ...        ...                ...   \n",
            "3963    ₹13.0 L     ₹6.88 K  2 BHK          2.0        BHK  Independent House   \n",
            "3964    ₹1.5 Cr    ₹74.47 K  8 BHK          8.0        BHK  Independent House   \n",
            "3965    ₹50.0 L    ₹26.48 K  5 BHK          5.0        BHK  Independent House   \n",
            "3966    ₹1.1 Cr    ₹54.61 K  5 BHK          5.0        BHK  Independent House   \n",
            "3967    ₹30.0 L    ₹15.89 K  2 BHK          2.0        BHK  Independent House   \n",
            "\n",
            "       Unnamed: 6 Unnamed: 7      Purpose                  Location  \\\n",
            "0     Independent      House  for sale in       Ballygunge, Kolkata   \n",
            "1     Independent      House  for sale in      Barrackpore, Kolkata   \n",
            "2     Independent      House  for sale in       Santoshpur, Kolkata   \n",
            "3     Independent      House  for sale in          Sarsuna, Kolkata   \n",
            "4     Independent      House  for sale in      Madhyamgram, Kolkata   \n",
            "...           ...        ...          ...                       ...   \n",
            "3963  Independent      House  for sale in    Picnic Garden, Kolkata   \n",
            "3964  Independent      House  for sale in  Rajpur Sonarpur, Kolkata   \n",
            "3965  Independent      House  for sale in           Amtala, Kolkata   \n",
            "3966  Independent      House  for sale in       Tollygunge, Kolkata   \n",
            "3967  Independent      House  for sale in          Naihati, Kolkata   \n",
            "\n",
            "          Area_Type Total_Sq.ft Price_per_sq.ft            Owner_name  \\\n",
            "0     Build Up Area  4200 sq.ft  ₹20.24 K/sq.ft   Abhijit Chakraborty   \n",
            "1     Build Up Area  1400 sq.ft   ₹3.21 K/sq.ft       Virtual Reality   \n",
            "2     Build Up Area  2500 sq.ft   ₹5.40 K/sq.ft     AveNew Properties   \n",
            "3     Build Up Area  1100 sq.ft   ₹5.45 K/sq.ft  Ganapati Real Estate   \n",
            "4     Build Up Area   900 sq.ft   ₹5.78 K/sq.ft  Third Eye Consulting   \n",
            "...             ...         ...             ...                   ...   \n",
            "3963  Build Up Area  1500 sq.ft      ₹866/sq.ft            Goutam Dey   \n",
            "3964  Build Up Area  2560 sq.ft   ₹5.86 K/sq.ft        Alak Kumar Roy   \n",
            "3965  Build Up Area  1900 sq.ft   ₹2.63 K/sq.ft              Sarishma   \n",
            "3966  Build Up Area  2600 sq.ft   ₹4.23 K/sq.ft     MEDIATOR REALTORS   \n",
            "3967  Build Up Area   950 sq.ft   ₹3.16 K/sq.ft           S Mukherjee   \n",
            "\n",
            "          Owner_type  \n",
            "0     Housing Expert  \n",
            "1     Housing Expert  \n",
            "2     Housing Expert  \n",
            "3     Housing Expert  \n",
            "4     Housing Expert  \n",
            "...              ...  \n",
            "3963           Owner  \n",
            "3964           Owner  \n",
            "3965           Owner  \n",
            "3966           Agent  \n",
            "3967           Owner  \n",
            "\n",
            "[3956 rows x 15 columns]\n"
          ]
        }
      ]
    },
    {
      "cell_type": "code",
      "source": [
        "df1.columns"
      ],
      "metadata": {
        "colab": {
          "base_uri": "https://localhost:8080/"
        },
        "id": "bmheE0SXYStA",
        "outputId": "106bbea8-d24f-43de-e6ec-41475e4f5975"
      },
      "execution_count": 9,
      "outputs": [
        {
          "output_type": "execute_result",
          "data": {
            "text/plain": [
              "Index(['Flat_Price', 'EMI_Starts', 'BHK', 'css-11nfaq3', 'Unnamed: 4',\n",
              "       'HOUSE_TYPE', 'Unnamed: 6', 'Unnamed: 7', 'Purpose', 'Location',\n",
              "       'Area_Type', 'Total_Sq.ft', 'Price_per_sq.ft', 'Owner_name',\n",
              "       'Owner_type'],\n",
              "      dtype='object')"
            ]
          },
          "metadata": {},
          "execution_count": 9
        }
      ]
    },
    {
      "cell_type": "code",
      "source": [
        "df2 = df1.drop(['css-11nfaq3','Unnamed: 6','Unnamed: 7','Unnamed: 4'],axis='columns')\n",
        "df2.shape"
      ],
      "metadata": {
        "colab": {
          "base_uri": "https://localhost:8080/"
        },
        "id": "j5Sp2y70YvBP",
        "outputId": "56a74d83-4109-4e01-9ebf-6dad71f91d96"
      },
      "execution_count": 10,
      "outputs": [
        {
          "output_type": "execute_result",
          "data": {
            "text/plain": [
              "(3956, 11)"
            ]
          },
          "metadata": {},
          "execution_count": 10
        }
      ]
    },
    {
      "cell_type": "code",
      "source": [
        "print(df2)"
      ],
      "metadata": {
        "colab": {
          "base_uri": "https://localhost:8080/"
        },
        "id": "F0aHu11oa6hU",
        "outputId": "a07338f2-46da-481d-d9b0-341c3f40a5f6"
      },
      "execution_count": 14,
      "outputs": [
        {
          "output_type": "stream",
          "name": "stdout",
          "text": [
            "     Flat_Price  EMI_Starts    BHK         HOUSE_TYPE      Purpose  \\\n",
            "0       ₹8.5 Cr  ₹4.22 Lacs  6 BHK  Independent House  for sale in   \n",
            "1       ₹45.0 L    ₹23.83 K  3 BHK  Independent House  for sale in   \n",
            "2      ₹1.35 Cr    ₹67.02 K  3 BHK  Independent House  for sale in   \n",
            "3       ₹60.0 L    ₹31.77 K  5 BHK  Independent House  for sale in   \n",
            "4       ₹52.0 L    ₹27.54 K  4 BHK  Independent House  for sale in   \n",
            "...         ...         ...    ...                ...          ...   \n",
            "3963    ₹13.0 L     ₹6.88 K  2 BHK  Independent House  for sale in   \n",
            "3964    ₹1.5 Cr    ₹74.47 K  8 BHK  Independent House  for sale in   \n",
            "3965    ₹50.0 L    ₹26.48 K  5 BHK  Independent House  for sale in   \n",
            "3966    ₹1.1 Cr    ₹54.61 K  5 BHK  Independent House  for sale in   \n",
            "3967    ₹30.0 L    ₹15.89 K  2 BHK  Independent House  for sale in   \n",
            "\n",
            "                      Location      Area_Type Total_Sq.ft Price_per_sq.ft  \\\n",
            "0          Ballygunge, Kolkata  Build Up Area  4200 sq.ft  ₹20.24 K/sq.ft   \n",
            "1         Barrackpore, Kolkata  Build Up Area  1400 sq.ft   ₹3.21 K/sq.ft   \n",
            "2          Santoshpur, Kolkata  Build Up Area  2500 sq.ft   ₹5.40 K/sq.ft   \n",
            "3             Sarsuna, Kolkata  Build Up Area  1100 sq.ft   ₹5.45 K/sq.ft   \n",
            "4         Madhyamgram, Kolkata  Build Up Area   900 sq.ft   ₹5.78 K/sq.ft   \n",
            "...                        ...            ...         ...             ...   \n",
            "3963    Picnic Garden, Kolkata  Build Up Area  1500 sq.ft      ₹866/sq.ft   \n",
            "3964  Rajpur Sonarpur, Kolkata  Build Up Area  2560 sq.ft   ₹5.86 K/sq.ft   \n",
            "3965           Amtala, Kolkata  Build Up Area  1900 sq.ft   ₹2.63 K/sq.ft   \n",
            "3966       Tollygunge, Kolkata  Build Up Area  2600 sq.ft   ₹4.23 K/sq.ft   \n",
            "3967          Naihati, Kolkata  Build Up Area   950 sq.ft   ₹3.16 K/sq.ft   \n",
            "\n",
            "                Owner_name      Owner_type  \n",
            "0      Abhijit Chakraborty  Housing Expert  \n",
            "1          Virtual Reality  Housing Expert  \n",
            "2        AveNew Properties  Housing Expert  \n",
            "3     Ganapati Real Estate  Housing Expert  \n",
            "4     Third Eye Consulting  Housing Expert  \n",
            "...                    ...             ...  \n",
            "3963            Goutam Dey           Owner  \n",
            "3964        Alak Kumar Roy           Owner  \n",
            "3965              Sarishma           Owner  \n",
            "3966     MEDIATOR REALTORS           Agent  \n",
            "3967           S Mukherjee           Owner  \n",
            "\n",
            "[3956 rows x 11 columns]\n"
          ]
        }
      ]
    },
    {
      "cell_type": "code",
      "source": [
        "df2.columns"
      ],
      "metadata": {
        "colab": {
          "base_uri": "https://localhost:8080/"
        },
        "id": "V6uxv1ps1Sl1",
        "outputId": "40cb25cc-0011-4663-88f1-906669becbcb"
      },
      "execution_count": 17,
      "outputs": [
        {
          "output_type": "execute_result",
          "data": {
            "text/plain": [
              "Index(['Flat_Price', 'EMI_Starts', 'BHK', 'HOUSE_TYPE', 'Purpose', 'Location',\n",
              "       'Area_Type', 'Total_Sq.ft', 'Price_per_sq.ft', 'Owner_name',\n",
              "       'Owner_type'],\n",
              "      dtype='object')"
            ]
          },
          "metadata": {},
          "execution_count": 17
        }
      ]
    },
    {
      "cell_type": "code",
      "source": [
        ""
      ],
      "metadata": {
        "id": "thOomZVg1ab5"
      },
      "execution_count": null,
      "outputs": []
    }
  ]
}